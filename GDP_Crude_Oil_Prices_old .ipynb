{
 "cells": [
  {
   "cell_type": "code",
   "execution_count": 2,
   "metadata": {},
   "outputs": [],
   "source": [
    "import pandas as pd #pandas library\n",
    "import numpy as np  #numpy library\n",
    "%matplotlib inline \n",
    "import matplotlib.pyplot as plt #import matplotlib same as from maplotlib import pyplot as plt\n"
   ]
  },
  {
   "cell_type": "code",
   "execution_count": 3,
   "metadata": {},
   "outputs": [],
   "source": [
    "#Load our external file\n",
    "data = pd.read_excel('nigeria_gdp.xlsx',skiprows=7)\n",
    "data_oil = pd.read_excel('crudeoil_prices.xlsx')"
   ]
  },
  {
   "cell_type": "code",
   "execution_count": 4,
   "metadata": {},
   "outputs": [
    {
     "data": {
      "text/html": [
       "<div>\n",
       "<style scoped>\n",
       "    .dataframe tbody tr th:only-of-type {\n",
       "        vertical-align: middle;\n",
       "    }\n",
       "\n",
       "    .dataframe tbody tr th {\n",
       "        vertical-align: top;\n",
       "    }\n",
       "\n",
       "    .dataframe thead th {\n",
       "        text-align: right;\n",
       "    }\n",
       "</style>\n",
       "<table border=\"1\" class=\"dataframe\">\n",
       "  <thead>\n",
       "    <tr style=\"text-align: right;\">\n",
       "      <th></th>\n",
       "      <th>Unnamed: 0</th>\n",
       "      <th>GDP growth (annual %)</th>\n",
       "      <th>GDP per capita growth (annual %)</th>\n",
       "      <th>GDP (constant LCU)</th>\n",
       "      <th>GDP per capita (constant LCU)</th>\n",
       "      <th>GDP (current LCU)</th>\n",
       "      <th>GDP (current US$)</th>\n",
       "      <th>GDP per capita (current US$)</th>\n",
       "      <th>GDP, PPP (current international $)</th>\n",
       "    </tr>\n",
       "  </thead>\n",
       "  <tbody>\n",
       "    <tr>\n",
       "      <th>0</th>\n",
       "      <td>Units</td>\n",
       "      <td>%</td>\n",
       "      <td>%</td>\n",
       "      <td>constant LCU</td>\n",
       "      <td>constant LCU</td>\n",
       "      <td>current LCU</td>\n",
       "      <td>current US$</td>\n",
       "      <td>current US$</td>\n",
       "      <td>current international $</td>\n",
       "    </tr>\n",
       "    <tr>\n",
       "      <th>1</th>\n",
       "      <td>1960</td>\n",
       "      <td>NaN</td>\n",
       "      <td>NaN</td>\n",
       "      <td>8819015424300</td>\n",
       "      <td>195380</td>\n",
       "      <td>2997268700</td>\n",
       "      <td>4.19609e+09</td>\n",
       "      <td>92.9618</td>\n",
       "      <td>NaN</td>\n",
       "    </tr>\n",
       "    <tr>\n",
       "      <th>2</th>\n",
       "      <td>1961</td>\n",
       "      <td>0.191795</td>\n",
       "      <td>-1.82038</td>\n",
       "      <td>8835929898100</td>\n",
       "      <td>191823</td>\n",
       "      <td>3190921200</td>\n",
       "      <td>4.4672e+09</td>\n",
       "      <td>96.9804</td>\n",
       "      <td>NaN</td>\n",
       "    </tr>\n",
       "    <tr>\n",
       "      <th>3</th>\n",
       "      <td>1962</td>\n",
       "      <td>4.10299</td>\n",
       "      <td>1.96415</td>\n",
       "      <td>9198467447000</td>\n",
       "      <td>195591</td>\n",
       "      <td>3506715100</td>\n",
       "      <td>4.9093e+09</td>\n",
       "      <td>104.389</td>\n",
       "      <td>NaN</td>\n",
       "    </tr>\n",
       "    <tr>\n",
       "      <th>4</th>\n",
       "      <td>1963</td>\n",
       "      <td>8.57862</td>\n",
       "      <td>6.31106</td>\n",
       "      <td>9987568915800</td>\n",
       "      <td>207935</td>\n",
       "      <td>3689708800</td>\n",
       "      <td>5.16549e+09</td>\n",
       "      <td>107.542</td>\n",
       "      <td>NaN</td>\n",
       "    </tr>\n",
       "  </tbody>\n",
       "</table>\n",
       "</div>"
      ],
      "text/plain": [
       "  Unnamed: 0 GDP growth (annual %) GDP per capita growth (annual %)  \\\n",
       "0      Units                     %                                %   \n",
       "1       1960                   NaN                              NaN   \n",
       "2       1961              0.191795                         -1.82038   \n",
       "3       1962               4.10299                          1.96415   \n",
       "4       1963               8.57862                          6.31106   \n",
       "\n",
       "  GDP (constant LCU) GDP per capita (constant LCU) GDP (current LCU)  \\\n",
       "0       constant LCU                  constant LCU       current LCU   \n",
       "1      8819015424300                        195380        2997268700   \n",
       "2      8835929898100                        191823        3190921200   \n",
       "3      9198467447000                        195591        3506715100   \n",
       "4      9987568915800                        207935        3689708800   \n",
       "\n",
       "  GDP (current US$) GDP per capita (current US$)  \\\n",
       "0       current US$                  current US$   \n",
       "1       4.19609e+09                      92.9618   \n",
       "2        4.4672e+09                      96.9804   \n",
       "3        4.9093e+09                      104.389   \n",
       "4       5.16549e+09                      107.542   \n",
       "\n",
       "  GDP, PPP (current international $)  \n",
       "0            current international $  \n",
       "1                                NaN  \n",
       "2                                NaN  \n",
       "3                                NaN  \n",
       "4                                NaN  "
      ]
     },
     "execution_count": 4,
     "metadata": {},
     "output_type": "execute_result"
    }
   ],
   "source": [
    "data.head()\n",
    "#From the below dataset we need to drop irrelevant columns "
   ]
  },
  {
   "cell_type": "code",
   "execution_count": null,
   "metadata": {},
   "outputs": [],
   "source": []
  },
  {
   "cell_type": "code",
   "execution_count": 5,
   "metadata": {},
   "outputs": [],
   "source": [
    "data.drop(columns = ['GDP (constant LCU)','GDP (current LCU)','GDP per capita (constant LCU)','GDP (current LCU)','GDP (current US$)','GDP, PPP (current international $)'], inplace = True)"
   ]
  },
  {
   "cell_type": "code",
   "execution_count": 6,
   "metadata": {},
   "outputs": [
    {
     "data": {
      "text/html": [
       "<div>\n",
       "<style scoped>\n",
       "    .dataframe tbody tr th:only-of-type {\n",
       "        vertical-align: middle;\n",
       "    }\n",
       "\n",
       "    .dataframe tbody tr th {\n",
       "        vertical-align: top;\n",
       "    }\n",
       "\n",
       "    .dataframe thead th {\n",
       "        text-align: right;\n",
       "    }\n",
       "</style>\n",
       "<table border=\"1\" class=\"dataframe\">\n",
       "  <thead>\n",
       "    <tr style=\"text-align: right;\">\n",
       "      <th></th>\n",
       "      <th>Unnamed: 0</th>\n",
       "      <th>GDP growth (annual %)</th>\n",
       "      <th>GDP per capita growth (annual %)</th>\n",
       "      <th>GDP per capita (current US$)</th>\n",
       "    </tr>\n",
       "  </thead>\n",
       "  <tbody>\n",
       "    <tr>\n",
       "      <th>0</th>\n",
       "      <td>Units</td>\n",
       "      <td>%</td>\n",
       "      <td>%</td>\n",
       "      <td>current US$</td>\n",
       "    </tr>\n",
       "    <tr>\n",
       "      <th>1</th>\n",
       "      <td>1960</td>\n",
       "      <td>NaN</td>\n",
       "      <td>NaN</td>\n",
       "      <td>92.9618</td>\n",
       "    </tr>\n",
       "    <tr>\n",
       "      <th>2</th>\n",
       "      <td>1961</td>\n",
       "      <td>0.191795</td>\n",
       "      <td>-1.82038</td>\n",
       "      <td>96.9804</td>\n",
       "    </tr>\n",
       "    <tr>\n",
       "      <th>3</th>\n",
       "      <td>1962</td>\n",
       "      <td>4.10299</td>\n",
       "      <td>1.96415</td>\n",
       "      <td>104.389</td>\n",
       "    </tr>\n",
       "    <tr>\n",
       "      <th>4</th>\n",
       "      <td>1963</td>\n",
       "      <td>8.57862</td>\n",
       "      <td>6.31106</td>\n",
       "      <td>107.542</td>\n",
       "    </tr>\n",
       "  </tbody>\n",
       "</table>\n",
       "</div>"
      ],
      "text/plain": [
       "  Unnamed: 0 GDP growth (annual %) GDP per capita growth (annual %)  \\\n",
       "0      Units                     %                                %   \n",
       "1       1960                   NaN                              NaN   \n",
       "2       1961              0.191795                         -1.82038   \n",
       "3       1962               4.10299                          1.96415   \n",
       "4       1963               8.57862                          6.31106   \n",
       "\n",
       "  GDP per capita (current US$)  \n",
       "0                  current US$  \n",
       "1                      92.9618  \n",
       "2                      96.9804  \n",
       "3                      104.389  \n",
       "4                      107.542  "
      ]
     },
     "execution_count": 6,
     "metadata": {},
     "output_type": "execute_result"
    }
   ],
   "source": [
    "data.head() "
   ]
  },
  {
   "cell_type": "code",
   "execution_count": 7,
   "metadata": {},
   "outputs": [],
   "source": [
    "data.drop(0,axis = 0, inplace = True)  #drop row 0 since it contains column names"
   ]
  },
  {
   "cell_type": "code",
   "execution_count": 8,
   "metadata": {},
   "outputs": [
    {
     "data": {
      "text/html": [
       "<div>\n",
       "<style scoped>\n",
       "    .dataframe tbody tr th:only-of-type {\n",
       "        vertical-align: middle;\n",
       "    }\n",
       "\n",
       "    .dataframe tbody tr th {\n",
       "        vertical-align: top;\n",
       "    }\n",
       "\n",
       "    .dataframe thead th {\n",
       "        text-align: right;\n",
       "    }\n",
       "</style>\n",
       "<table border=\"1\" class=\"dataframe\">\n",
       "  <thead>\n",
       "    <tr style=\"text-align: right;\">\n",
       "      <th></th>\n",
       "      <th>Unnamed: 0</th>\n",
       "      <th>GDP growth (annual %)</th>\n",
       "      <th>GDP per capita growth (annual %)</th>\n",
       "      <th>GDP per capita (current US$)</th>\n",
       "    </tr>\n",
       "  </thead>\n",
       "  <tbody>\n",
       "    <tr>\n",
       "      <th>1</th>\n",
       "      <td>1960</td>\n",
       "      <td>NaN</td>\n",
       "      <td>NaN</td>\n",
       "      <td>92.9618</td>\n",
       "    </tr>\n",
       "    <tr>\n",
       "      <th>2</th>\n",
       "      <td>1961</td>\n",
       "      <td>0.191795</td>\n",
       "      <td>-1.82038</td>\n",
       "      <td>96.9804</td>\n",
       "    </tr>\n",
       "    <tr>\n",
       "      <th>3</th>\n",
       "      <td>1962</td>\n",
       "      <td>4.10299</td>\n",
       "      <td>1.96415</td>\n",
       "      <td>104.389</td>\n",
       "    </tr>\n",
       "    <tr>\n",
       "      <th>4</th>\n",
       "      <td>1963</td>\n",
       "      <td>8.57862</td>\n",
       "      <td>6.31106</td>\n",
       "      <td>107.542</td>\n",
       "    </tr>\n",
       "    <tr>\n",
       "      <th>5</th>\n",
       "      <td>1964</td>\n",
       "      <td>4.95049</td>\n",
       "      <td>2.7392</td>\n",
       "      <td>113.17</td>\n",
       "    </tr>\n",
       "  </tbody>\n",
       "</table>\n",
       "</div>"
      ],
      "text/plain": [
       "  Unnamed: 0 GDP growth (annual %) GDP per capita growth (annual %)  \\\n",
       "1       1960                   NaN                              NaN   \n",
       "2       1961              0.191795                         -1.82038   \n",
       "3       1962               4.10299                          1.96415   \n",
       "4       1963               8.57862                          6.31106   \n",
       "5       1964               4.95049                           2.7392   \n",
       "\n",
       "  GDP per capita (current US$)  \n",
       "1                      92.9618  \n",
       "2                      96.9804  \n",
       "3                      104.389  \n",
       "4                      107.542  \n",
       "5                       113.17  "
      ]
     },
     "execution_count": 8,
     "metadata": {},
     "output_type": "execute_result"
    }
   ],
   "source": [
    "data.head()"
   ]
  },
  {
   "cell_type": "code",
   "execution_count": 9,
   "metadata": {},
   "outputs": [],
   "source": [
    "#rename the Unamed colum to Year\n",
    "data = data.rename(columns= {'Unnamed: 0':'Years'})"
   ]
  },
  {
   "cell_type": "code",
   "execution_count": 10,
   "metadata": {},
   "outputs": [
    {
     "data": {
      "text/html": [
       "<div>\n",
       "<style scoped>\n",
       "    .dataframe tbody tr th:only-of-type {\n",
       "        vertical-align: middle;\n",
       "    }\n",
       "\n",
       "    .dataframe tbody tr th {\n",
       "        vertical-align: top;\n",
       "    }\n",
       "\n",
       "    .dataframe thead th {\n",
       "        text-align: right;\n",
       "    }\n",
       "</style>\n",
       "<table border=\"1\" class=\"dataframe\">\n",
       "  <thead>\n",
       "    <tr style=\"text-align: right;\">\n",
       "      <th></th>\n",
       "      <th>Years</th>\n",
       "      <th>GDP growth (annual %)</th>\n",
       "      <th>GDP per capita growth (annual %)</th>\n",
       "      <th>GDP per capita (current US$)</th>\n",
       "    </tr>\n",
       "  </thead>\n",
       "  <tbody>\n",
       "    <tr>\n",
       "      <th>1</th>\n",
       "      <td>1960</td>\n",
       "      <td>NaN</td>\n",
       "      <td>NaN</td>\n",
       "      <td>92.9618</td>\n",
       "    </tr>\n",
       "    <tr>\n",
       "      <th>2</th>\n",
       "      <td>1961</td>\n",
       "      <td>0.191795</td>\n",
       "      <td>-1.82038</td>\n",
       "      <td>96.9804</td>\n",
       "    </tr>\n",
       "    <tr>\n",
       "      <th>3</th>\n",
       "      <td>1962</td>\n",
       "      <td>4.10299</td>\n",
       "      <td>1.96415</td>\n",
       "      <td>104.389</td>\n",
       "    </tr>\n",
       "    <tr>\n",
       "      <th>4</th>\n",
       "      <td>1963</td>\n",
       "      <td>8.57862</td>\n",
       "      <td>6.31106</td>\n",
       "      <td>107.542</td>\n",
       "    </tr>\n",
       "    <tr>\n",
       "      <th>5</th>\n",
       "      <td>1964</td>\n",
       "      <td>4.95049</td>\n",
       "      <td>2.7392</td>\n",
       "      <td>113.17</td>\n",
       "    </tr>\n",
       "  </tbody>\n",
       "</table>\n",
       "</div>"
      ],
      "text/plain": [
       "  Years GDP growth (annual %) GDP per capita growth (annual %)  \\\n",
       "1  1960                   NaN                              NaN   \n",
       "2  1961              0.191795                         -1.82038   \n",
       "3  1962               4.10299                          1.96415   \n",
       "4  1963               8.57862                          6.31106   \n",
       "5  1964               4.95049                           2.7392   \n",
       "\n",
       "  GDP per capita (current US$)  \n",
       "1                      92.9618  \n",
       "2                      96.9804  \n",
       "3                      104.389  \n",
       "4                      107.542  \n",
       "5                       113.17  "
      ]
     },
     "execution_count": 10,
     "metadata": {},
     "output_type": "execute_result"
    }
   ],
   "source": [
    "data.head()"
   ]
  },
  {
   "cell_type": "code",
   "execution_count": 11,
   "metadata": {},
   "outputs": [
    {
     "name": "stdout",
     "output_type": "stream",
     "text": [
      "<class 'pandas.core.frame.DataFrame'>\n",
      "Int64Index: 57 entries, 1 to 57\n",
      "Data columns (total 4 columns):\n",
      "Years                               57 non-null object\n",
      "GDP growth (annual %)               56 non-null object\n",
      "GDP per capita growth (annual %)    56 non-null object\n",
      "GDP per capita (current US$)        57 non-null object\n",
      "dtypes: object(4)\n",
      "memory usage: 2.2+ KB\n"
     ]
    }
   ],
   "source": [
    "#what does our current data contain\n",
    "data.info()"
   ]
  },
  {
   "cell_type": "code",
   "execution_count": 12,
   "metadata": {},
   "outputs": [
    {
     "data": {
      "text/html": [
       "<div>\n",
       "<style scoped>\n",
       "    .dataframe tbody tr th:only-of-type {\n",
       "        vertical-align: middle;\n",
       "    }\n",
       "\n",
       "    .dataframe tbody tr th {\n",
       "        vertical-align: top;\n",
       "    }\n",
       "\n",
       "    .dataframe thead th {\n",
       "        text-align: right;\n",
       "    }\n",
       "</style>\n",
       "<table border=\"1\" class=\"dataframe\">\n",
       "  <thead>\n",
       "    <tr style=\"text-align: right;\">\n",
       "      <th></th>\n",
       "      <th>Years</th>\n",
       "      <th>GDP growth (annual %)</th>\n",
       "      <th>GDP per capita growth (annual %)</th>\n",
       "      <th>GDP per capita (current US$)</th>\n",
       "    </tr>\n",
       "  </thead>\n",
       "  <tbody>\n",
       "    <tr>\n",
       "      <th>1</th>\n",
       "      <td>False</td>\n",
       "      <td>True</td>\n",
       "      <td>True</td>\n",
       "      <td>False</td>\n",
       "    </tr>\n",
       "    <tr>\n",
       "      <th>2</th>\n",
       "      <td>False</td>\n",
       "      <td>False</td>\n",
       "      <td>False</td>\n",
       "      <td>False</td>\n",
       "    </tr>\n",
       "    <tr>\n",
       "      <th>3</th>\n",
       "      <td>False</td>\n",
       "      <td>False</td>\n",
       "      <td>False</td>\n",
       "      <td>False</td>\n",
       "    </tr>\n",
       "    <tr>\n",
       "      <th>4</th>\n",
       "      <td>False</td>\n",
       "      <td>False</td>\n",
       "      <td>False</td>\n",
       "      <td>False</td>\n",
       "    </tr>\n",
       "    <tr>\n",
       "      <th>5</th>\n",
       "      <td>False</td>\n",
       "      <td>False</td>\n",
       "      <td>False</td>\n",
       "      <td>False</td>\n",
       "    </tr>\n",
       "  </tbody>\n",
       "</table>\n",
       "</div>"
      ],
      "text/plain": [
       "   Years  GDP growth (annual %)  GDP per capita growth (annual %)  \\\n",
       "1  False                   True                              True   \n",
       "2  False                  False                             False   \n",
       "3  False                  False                             False   \n",
       "4  False                  False                             False   \n",
       "5  False                  False                             False   \n",
       "\n",
       "   GDP per capita (current US$)  \n",
       "1                         False  \n",
       "2                         False  \n",
       "3                         False  \n",
       "4                         False  \n",
       "5                         False  "
      ]
     },
     "execution_count": 12,
     "metadata": {},
     "output_type": "execute_result"
    }
   ],
   "source": [
    "data.isnull().head() #show the boolean value of NAN\n"
   ]
  },
  {
   "cell_type": "code",
   "execution_count": 13,
   "metadata": {},
   "outputs": [],
   "source": [
    "#lets fill all NAN from \"GDP growth (annual %)\",\"GDP per capita growth (annual %)\" to zero\n",
    "#data.fillna(value = 0, inplace=True)"
   ]
  },
  {
   "cell_type": "code",
   "execution_count": 14,
   "metadata": {},
   "outputs": [
    {
     "data": {
      "text/html": [
       "<div>\n",
       "<style scoped>\n",
       "    .dataframe tbody tr th:only-of-type {\n",
       "        vertical-align: middle;\n",
       "    }\n",
       "\n",
       "    .dataframe tbody tr th {\n",
       "        vertical-align: top;\n",
       "    }\n",
       "\n",
       "    .dataframe thead th {\n",
       "        text-align: right;\n",
       "    }\n",
       "</style>\n",
       "<table border=\"1\" class=\"dataframe\">\n",
       "  <thead>\n",
       "    <tr style=\"text-align: right;\">\n",
       "      <th></th>\n",
       "      <th>Years</th>\n",
       "      <th>GDP growth (annual %)</th>\n",
       "      <th>GDP per capita growth (annual %)</th>\n",
       "      <th>GDP per capita (current US$)</th>\n",
       "    </tr>\n",
       "  </thead>\n",
       "  <tbody>\n",
       "    <tr>\n",
       "      <th>1</th>\n",
       "      <td>1960</td>\n",
       "      <td>NaN</td>\n",
       "      <td>NaN</td>\n",
       "      <td>92.9618</td>\n",
       "    </tr>\n",
       "    <tr>\n",
       "      <th>2</th>\n",
       "      <td>1961</td>\n",
       "      <td>0.191795</td>\n",
       "      <td>-1.82038</td>\n",
       "      <td>96.9804</td>\n",
       "    </tr>\n",
       "    <tr>\n",
       "      <th>3</th>\n",
       "      <td>1962</td>\n",
       "      <td>4.10299</td>\n",
       "      <td>1.96415</td>\n",
       "      <td>104.389</td>\n",
       "    </tr>\n",
       "    <tr>\n",
       "      <th>4</th>\n",
       "      <td>1963</td>\n",
       "      <td>8.57862</td>\n",
       "      <td>6.31106</td>\n",
       "      <td>107.542</td>\n",
       "    </tr>\n",
       "    <tr>\n",
       "      <th>5</th>\n",
       "      <td>1964</td>\n",
       "      <td>4.95049</td>\n",
       "      <td>2.7392</td>\n",
       "      <td>113.17</td>\n",
       "    </tr>\n",
       "  </tbody>\n",
       "</table>\n",
       "</div>"
      ],
      "text/plain": [
       "  Years GDP growth (annual %) GDP per capita growth (annual %)  \\\n",
       "1  1960                   NaN                              NaN   \n",
       "2  1961              0.191795                         -1.82038   \n",
       "3  1962               4.10299                          1.96415   \n",
       "4  1963               8.57862                          6.31106   \n",
       "5  1964               4.95049                           2.7392   \n",
       "\n",
       "  GDP per capita (current US$)  \n",
       "1                      92.9618  \n",
       "2                      96.9804  \n",
       "3                      104.389  \n",
       "4                      107.542  \n",
       "5                       113.17  "
      ]
     },
     "execution_count": 14,
     "metadata": {},
     "output_type": "execute_result"
    }
   ],
   "source": [
    "data.head()"
   ]
  },
  {
   "cell_type": "code",
   "execution_count": 15,
   "metadata": {},
   "outputs": [
    {
     "data": {
      "text/plain": [
       "Years                               object\n",
       "GDP growth (annual %)               object\n",
       "GDP per capita growth (annual %)    object\n",
       "GDP per capita (current US$)        object\n",
       "dtype: object"
      ]
     },
     "execution_count": 15,
     "metadata": {},
     "output_type": "execute_result"
    }
   ],
   "source": [
    "data.dtypes"
   ]
  },
  {
   "cell_type": "code",
   "execution_count": 16,
   "metadata": {},
   "outputs": [],
   "source": [
    "data.dropna(inplace=True)"
   ]
  },
  {
   "cell_type": "code",
   "execution_count": 17,
   "metadata": {},
   "outputs": [
    {
     "data": {
      "text/html": [
       "<div>\n",
       "<style scoped>\n",
       "    .dataframe tbody tr th:only-of-type {\n",
       "        vertical-align: middle;\n",
       "    }\n",
       "\n",
       "    .dataframe tbody tr th {\n",
       "        vertical-align: top;\n",
       "    }\n",
       "\n",
       "    .dataframe thead th {\n",
       "        text-align: right;\n",
       "    }\n",
       "</style>\n",
       "<table border=\"1\" class=\"dataframe\">\n",
       "  <thead>\n",
       "    <tr style=\"text-align: right;\">\n",
       "      <th></th>\n",
       "      <th>Years</th>\n",
       "      <th>GDP growth (annual %)</th>\n",
       "      <th>GDP per capita growth (annual %)</th>\n",
       "      <th>GDP per capita (current US$)</th>\n",
       "    </tr>\n",
       "  </thead>\n",
       "  <tbody>\n",
       "    <tr>\n",
       "      <th>2</th>\n",
       "      <td>1961</td>\n",
       "      <td>0.191795</td>\n",
       "      <td>-1.82038</td>\n",
       "      <td>96.9804</td>\n",
       "    </tr>\n",
       "    <tr>\n",
       "      <th>3</th>\n",
       "      <td>1962</td>\n",
       "      <td>4.10299</td>\n",
       "      <td>1.96415</td>\n",
       "      <td>104.389</td>\n",
       "    </tr>\n",
       "    <tr>\n",
       "      <th>4</th>\n",
       "      <td>1963</td>\n",
       "      <td>8.57862</td>\n",
       "      <td>6.31106</td>\n",
       "      <td>107.542</td>\n",
       "    </tr>\n",
       "    <tr>\n",
       "      <th>5</th>\n",
       "      <td>1964</td>\n",
       "      <td>4.95049</td>\n",
       "      <td>2.7392</td>\n",
       "      <td>113.17</td>\n",
       "    </tr>\n",
       "    <tr>\n",
       "      <th>6</th>\n",
       "      <td>1965</td>\n",
       "      <td>4.88498</td>\n",
       "      <td>2.66464</td>\n",
       "      <td>117.19</td>\n",
       "    </tr>\n",
       "  </tbody>\n",
       "</table>\n",
       "</div>"
      ],
      "text/plain": [
       "  Years GDP growth (annual %) GDP per capita growth (annual %)  \\\n",
       "2  1961              0.191795                         -1.82038   \n",
       "3  1962               4.10299                          1.96415   \n",
       "4  1963               8.57862                          6.31106   \n",
       "5  1964               4.95049                           2.7392   \n",
       "6  1965               4.88498                          2.66464   \n",
       "\n",
       "  GDP per capita (current US$)  \n",
       "2                      96.9804  \n",
       "3                      104.389  \n",
       "4                      107.542  \n",
       "5                       113.17  \n",
       "6                       117.19  "
      ]
     },
     "execution_count": 17,
     "metadata": {},
     "output_type": "execute_result"
    }
   ],
   "source": [
    "data.head()"
   ]
  },
  {
   "cell_type": "code",
   "execution_count": 18,
   "metadata": {},
   "outputs": [
    {
     "data": {
      "text/html": [
       "<div>\n",
       "<style scoped>\n",
       "    .dataframe tbody tr th:only-of-type {\n",
       "        vertical-align: middle;\n",
       "    }\n",
       "\n",
       "    .dataframe tbody tr th {\n",
       "        vertical-align: top;\n",
       "    }\n",
       "\n",
       "    .dataframe thead th {\n",
       "        text-align: right;\n",
       "    }\n",
       "</style>\n",
       "<table border=\"1\" class=\"dataframe\">\n",
       "  <thead>\n",
       "    <tr style=\"text-align: right;\">\n",
       "      <th></th>\n",
       "      <th>Years</th>\n",
       "      <th>GDP growth (annual %)</th>\n",
       "      <th>GDP per capita growth (annual %)</th>\n",
       "      <th>GDP per capita (current US$)</th>\n",
       "    </tr>\n",
       "  </thead>\n",
       "  <tbody>\n",
       "    <tr>\n",
       "      <th>2</th>\n",
       "      <td>1961</td>\n",
       "      <td>0.191795</td>\n",
       "      <td>-1.82038</td>\n",
       "      <td>96.9804</td>\n",
       "    </tr>\n",
       "    <tr>\n",
       "      <th>3</th>\n",
       "      <td>1962</td>\n",
       "      <td>4.10299</td>\n",
       "      <td>1.96415</td>\n",
       "      <td>104.389</td>\n",
       "    </tr>\n",
       "    <tr>\n",
       "      <th>4</th>\n",
       "      <td>1963</td>\n",
       "      <td>8.57862</td>\n",
       "      <td>6.31106</td>\n",
       "      <td>107.542</td>\n",
       "    </tr>\n",
       "    <tr>\n",
       "      <th>5</th>\n",
       "      <td>1964</td>\n",
       "      <td>4.95049</td>\n",
       "      <td>2.7392</td>\n",
       "      <td>113.17</td>\n",
       "    </tr>\n",
       "    <tr>\n",
       "      <th>6</th>\n",
       "      <td>1965</td>\n",
       "      <td>4.88498</td>\n",
       "      <td>2.66464</td>\n",
       "      <td>117.19</td>\n",
       "    </tr>\n",
       "  </tbody>\n",
       "</table>\n",
       "</div>"
      ],
      "text/plain": [
       "  Years GDP growth (annual %) GDP per capita growth (annual %)  \\\n",
       "2  1961              0.191795                         -1.82038   \n",
       "3  1962               4.10299                          1.96415   \n",
       "4  1963               8.57862                          6.31106   \n",
       "5  1964               4.95049                           2.7392   \n",
       "6  1965               4.88498                          2.66464   \n",
       "\n",
       "  GDP per capita (current US$)  \n",
       "2                      96.9804  \n",
       "3                      104.389  \n",
       "4                      107.542  \n",
       "5                       113.17  \n",
       "6                       117.19  "
      ]
     },
     "execution_count": 18,
     "metadata": {},
     "output_type": "execute_result"
    }
   ],
   "source": [
    "#round up data to 2 decimal place\n",
    "#Round up to 2 decimal places in other to get the naira and kobo equivalent.\n",
    "data = data.round(2)\n",
    "data.head()"
   ]
  },
  {
   "cell_type": "code",
   "execution_count": 19,
   "metadata": {},
   "outputs": [],
   "source": [
    "#data['GDP per capita (current US$)'].mean(),median() "
   ]
  },
  {
   "cell_type": "code",
   "execution_count": 20,
   "metadata": {},
   "outputs": [
    {
     "data": {
      "text/plain": [
       "Years                               object\n",
       "GDP growth (annual %)               object\n",
       "GDP per capita growth (annual %)    object\n",
       "GDP per capita (current US$)        object\n",
       "dtype: object"
      ]
     },
     "execution_count": 20,
     "metadata": {},
     "output_type": "execute_result"
    }
   ],
   "source": [
    "data.dtypes #check datapes for each column"
   ]
  },
  {
   "cell_type": "code",
   "execution_count": 21,
   "metadata": {},
   "outputs": [],
   "source": [
    "data['Years'] = pd.to_datetime(data['Years']).dt.year #convert generic year object to datetime object"
   ]
  },
  {
   "cell_type": "code",
   "execution_count": 22,
   "metadata": {},
   "outputs": [
    {
     "data": {
      "text/plain": [
       "Years                                int64\n",
       "GDP growth (annual %)               object\n",
       "GDP per capita growth (annual %)    object\n",
       "GDP per capita (current US$)        object\n",
       "dtype: object"
      ]
     },
     "execution_count": 22,
     "metadata": {},
     "output_type": "execute_result"
    }
   ],
   "source": [
    "data.dtypes"
   ]
  },
  {
   "cell_type": "code",
   "execution_count": 23,
   "metadata": {},
   "outputs": [
    {
     "data": {
      "text/html": [
       "<div>\n",
       "<style scoped>\n",
       "    .dataframe tbody tr th:only-of-type {\n",
       "        vertical-align: middle;\n",
       "    }\n",
       "\n",
       "    .dataframe tbody tr th {\n",
       "        vertical-align: top;\n",
       "    }\n",
       "\n",
       "    .dataframe thead th {\n",
       "        text-align: right;\n",
       "    }\n",
       "</style>\n",
       "<table border=\"1\" class=\"dataframe\">\n",
       "  <thead>\n",
       "    <tr style=\"text-align: right;\">\n",
       "      <th></th>\n",
       "      <th>Years</th>\n",
       "      <th>GDP growth (annual %)</th>\n",
       "      <th>GDP per capita growth (annual %)</th>\n",
       "      <th>GDP per capita (current US$)</th>\n",
       "    </tr>\n",
       "  </thead>\n",
       "  <tbody>\n",
       "    <tr>\n",
       "      <th>53</th>\n",
       "      <td>2012</td>\n",
       "      <td>4.27928</td>\n",
       "      <td>1.52409</td>\n",
       "      <td>2755.3</td>\n",
       "    </tr>\n",
       "    <tr>\n",
       "      <th>54</th>\n",
       "      <td>2013</td>\n",
       "      <td>5.39442</td>\n",
       "      <td>2.61463</td>\n",
       "      <td>2996.96</td>\n",
       "    </tr>\n",
       "    <tr>\n",
       "      <th>55</th>\n",
       "      <td>2014</td>\n",
       "      <td>6.30972</td>\n",
       "      <td>3.51962</td>\n",
       "      <td>3221.68</td>\n",
       "    </tr>\n",
       "    <tr>\n",
       "      <th>56</th>\n",
       "      <td>2015</td>\n",
       "      <td>2.65269</td>\n",
       "      <td>-0.0222352</td>\n",
       "      <td>2655.16</td>\n",
       "    </tr>\n",
       "    <tr>\n",
       "      <th>57</th>\n",
       "      <td>2016</td>\n",
       "      <td>-1.61687</td>\n",
       "      <td>-4.16011</td>\n",
       "      <td>2175.67</td>\n",
       "    </tr>\n",
       "  </tbody>\n",
       "</table>\n",
       "</div>"
      ],
      "text/plain": [
       "    Years GDP growth (annual %) GDP per capita growth (annual %)  \\\n",
       "53   2012               4.27928                          1.52409   \n",
       "54   2013               5.39442                          2.61463   \n",
       "55   2014               6.30972                          3.51962   \n",
       "56   2015               2.65269                       -0.0222352   \n",
       "57   2016              -1.61687                         -4.16011   \n",
       "\n",
       "   GDP per capita (current US$)  \n",
       "53                       2755.3  \n",
       "54                      2996.96  \n",
       "55                      3221.68  \n",
       "56                      2655.16  \n",
       "57                      2175.67  "
      ]
     },
     "execution_count": 23,
     "metadata": {},
     "output_type": "execute_result"
    }
   ],
   "source": [
    "data.tail()"
   ]
  },
  {
   "cell_type": "code",
   "execution_count": 24,
   "metadata": {},
   "outputs": [
    {
     "data": {
      "text/html": [
       "<div>\n",
       "<style scoped>\n",
       "    .dataframe tbody tr th:only-of-type {\n",
       "        vertical-align: middle;\n",
       "    }\n",
       "\n",
       "    .dataframe tbody tr th {\n",
       "        vertical-align: top;\n",
       "    }\n",
       "\n",
       "    .dataframe thead th {\n",
       "        text-align: right;\n",
       "    }\n",
       "</style>\n",
       "<table border=\"1\" class=\"dataframe\">\n",
       "  <thead>\n",
       "    <tr style=\"text-align: right;\">\n",
       "      <th></th>\n",
       "      <th>Years</th>\n",
       "      <th>GDP growth (annual %)</th>\n",
       "      <th>GDP per capita growth (annual %)</th>\n",
       "      <th>GDP per capita (current US$)</th>\n",
       "    </tr>\n",
       "  </thead>\n",
       "  <tbody>\n",
       "    <tr>\n",
       "      <th>2</th>\n",
       "      <td>1961</td>\n",
       "      <td>0.191795</td>\n",
       "      <td>-1.82038</td>\n",
       "      <td>96.9804</td>\n",
       "    </tr>\n",
       "    <tr>\n",
       "      <th>3</th>\n",
       "      <td>1962</td>\n",
       "      <td>4.10299</td>\n",
       "      <td>1.96415</td>\n",
       "      <td>104.389</td>\n",
       "    </tr>\n",
       "    <tr>\n",
       "      <th>4</th>\n",
       "      <td>1963</td>\n",
       "      <td>8.57862</td>\n",
       "      <td>6.31106</td>\n",
       "      <td>107.542</td>\n",
       "    </tr>\n",
       "    <tr>\n",
       "      <th>5</th>\n",
       "      <td>1964</td>\n",
       "      <td>4.95049</td>\n",
       "      <td>2.7392</td>\n",
       "      <td>113.17</td>\n",
       "    </tr>\n",
       "    <tr>\n",
       "      <th>6</th>\n",
       "      <td>1965</td>\n",
       "      <td>4.88498</td>\n",
       "      <td>2.66464</td>\n",
       "      <td>117.19</td>\n",
       "    </tr>\n",
       "  </tbody>\n",
       "</table>\n",
       "</div>"
      ],
      "text/plain": [
       "   Years GDP growth (annual %) GDP per capita growth (annual %)  \\\n",
       "2   1961              0.191795                         -1.82038   \n",
       "3   1962               4.10299                          1.96415   \n",
       "4   1963               8.57862                          6.31106   \n",
       "5   1964               4.95049                           2.7392   \n",
       "6   1965               4.88498                          2.66464   \n",
       "\n",
       "  GDP per capita (current US$)  \n",
       "2                      96.9804  \n",
       "3                      104.389  \n",
       "4                      107.542  \n",
       "5                       113.17  \n",
       "6                       117.19  "
      ]
     },
     "execution_count": 24,
     "metadata": {},
     "output_type": "execute_result"
    }
   ],
   "source": [
    "data.head()"
   ]
  },
  {
   "cell_type": "code",
   "execution_count": 25,
   "metadata": {},
   "outputs": [],
   "source": [
    "data['GDP per capita (current US$)'] = pd.to_numeric(data['GDP per capita (current US$)']) #convert generic Gdp object to numeric object"
   ]
  },
  {
   "cell_type": "code",
   "execution_count": 26,
   "metadata": {},
   "outputs": [
    {
     "data": {
      "text/plain": [
       "Years                                 int64\n",
       "GDP growth (annual %)                object\n",
       "GDP per capita growth (annual %)     object\n",
       "GDP per capita (current US$)        float64\n",
       "dtype: object"
      ]
     },
     "execution_count": 26,
     "metadata": {},
     "output_type": "execute_result"
    }
   ],
   "source": [
    "data.dtypes"
   ]
  },
  {
   "cell_type": "code",
   "execution_count": 27,
   "metadata": {},
   "outputs": [],
   "source": [
    "# def to_numeric(series):\n",
    "#    return pd.to_numeric(series)\n",
    "\n",
    "# data['GDP per capita (current US$)'] = to_numeric()\n",
    "data['GDP per capita growth (annual %)'] = pd.to_numeric(data['GDP per capita growth (annual %)']) #convert generic Gdp object to numeric object"
   ]
  },
  {
   "cell_type": "code",
   "execution_count": 28,
   "metadata": {},
   "outputs": [
    {
     "data": {
      "text/plain": [
       "Years                                 int64\n",
       "GDP growth (annual %)                object\n",
       "GDP per capita growth (annual %)    float64\n",
       "GDP per capita (current US$)        float64\n",
       "dtype: object"
      ]
     },
     "execution_count": 28,
     "metadata": {},
     "output_type": "execute_result"
    }
   ],
   "source": [
    "data.dtypes"
   ]
  },
  {
   "cell_type": "code",
   "execution_count": 29,
   "metadata": {},
   "outputs": [],
   "source": [
    "data['GDP growth (annual %)'] = pd.to_numeric(data['GDP growth (annual %)']) #convert generic Gdp object to numeric object"
   ]
  },
  {
   "cell_type": "code",
   "execution_count": 30,
   "metadata": {},
   "outputs": [
    {
     "data": {
      "text/plain": [
       "Years                                 int64\n",
       "GDP growth (annual %)               float64\n",
       "GDP per capita growth (annual %)    float64\n",
       "GDP per capita (current US$)        float64\n",
       "dtype: object"
      ]
     },
     "execution_count": 30,
     "metadata": {},
     "output_type": "execute_result"
    }
   ],
   "source": [
    "data.dtypes"
   ]
  },
  {
   "cell_type": "code",
   "execution_count": 31,
   "metadata": {},
   "outputs": [],
   "source": [
    "data = data.round(2) #roun"
   ]
  },
  {
   "cell_type": "code",
   "execution_count": 32,
   "metadata": {},
   "outputs": [
    {
     "data": {
      "text/html": [
       "<div>\n",
       "<style scoped>\n",
       "    .dataframe tbody tr th:only-of-type {\n",
       "        vertical-align: middle;\n",
       "    }\n",
       "\n",
       "    .dataframe tbody tr th {\n",
       "        vertical-align: top;\n",
       "    }\n",
       "\n",
       "    .dataframe thead th {\n",
       "        text-align: right;\n",
       "    }\n",
       "</style>\n",
       "<table border=\"1\" class=\"dataframe\">\n",
       "  <thead>\n",
       "    <tr style=\"text-align: right;\">\n",
       "      <th></th>\n",
       "      <th>Years</th>\n",
       "      <th>GDP growth (annual %)</th>\n",
       "      <th>GDP per capita growth (annual %)</th>\n",
       "      <th>GDP per capita (current US$)</th>\n",
       "    </tr>\n",
       "  </thead>\n",
       "  <tbody>\n",
       "    <tr>\n",
       "      <th>2</th>\n",
       "      <td>1961</td>\n",
       "      <td>0.19</td>\n",
       "      <td>-1.82</td>\n",
       "      <td>96.98</td>\n",
       "    </tr>\n",
       "    <tr>\n",
       "      <th>3</th>\n",
       "      <td>1962</td>\n",
       "      <td>4.10</td>\n",
       "      <td>1.96</td>\n",
       "      <td>104.39</td>\n",
       "    </tr>\n",
       "    <tr>\n",
       "      <th>4</th>\n",
       "      <td>1963</td>\n",
       "      <td>8.58</td>\n",
       "      <td>6.31</td>\n",
       "      <td>107.54</td>\n",
       "    </tr>\n",
       "    <tr>\n",
       "      <th>5</th>\n",
       "      <td>1964</td>\n",
       "      <td>4.95</td>\n",
       "      <td>2.74</td>\n",
       "      <td>113.17</td>\n",
       "    </tr>\n",
       "    <tr>\n",
       "      <th>6</th>\n",
       "      <td>1965</td>\n",
       "      <td>4.88</td>\n",
       "      <td>2.66</td>\n",
       "      <td>117.19</td>\n",
       "    </tr>\n",
       "  </tbody>\n",
       "</table>\n",
       "</div>"
      ],
      "text/plain": [
       "   Years  GDP growth (annual %)  GDP per capita growth (annual %)  \\\n",
       "2   1961                   0.19                             -1.82   \n",
       "3   1962                   4.10                              1.96   \n",
       "4   1963                   8.58                              6.31   \n",
       "5   1964                   4.95                              2.74   \n",
       "6   1965                   4.88                              2.66   \n",
       "\n",
       "   GDP per capita (current US$)  \n",
       "2                         96.98  \n",
       "3                        104.39  \n",
       "4                        107.54  \n",
       "5                        113.17  \n",
       "6                        117.19  "
      ]
     },
     "execution_count": 32,
     "metadata": {},
     "output_type": "execute_result"
    }
   ],
   "source": [
    "data.head()"
   ]
  },
  {
   "cell_type": "code",
   "execution_count": 33,
   "metadata": {},
   "outputs": [
    {
     "data": {
      "text/html": [
       "<div>\n",
       "<style scoped>\n",
       "    .dataframe tbody tr th:only-of-type {\n",
       "        vertical-align: middle;\n",
       "    }\n",
       "\n",
       "    .dataframe tbody tr th {\n",
       "        vertical-align: top;\n",
       "    }\n",
       "\n",
       "    .dataframe thead th {\n",
       "        text-align: right;\n",
       "    }\n",
       "</style>\n",
       "<table border=\"1\" class=\"dataframe\">\n",
       "  <thead>\n",
       "    <tr style=\"text-align: right;\">\n",
       "      <th></th>\n",
       "      <th>GDP growth</th>\n",
       "      <th>GDP per capita growth</th>\n",
       "      <th>GDP per capita</th>\n",
       "    </tr>\n",
       "    <tr>\n",
       "      <th>Years</th>\n",
       "      <th></th>\n",
       "      <th></th>\n",
       "      <th></th>\n",
       "    </tr>\n",
       "  </thead>\n",
       "  <tbody>\n",
       "    <tr>\n",
       "      <th>1961</th>\n",
       "      <td>0.19</td>\n",
       "      <td>-1.82</td>\n",
       "      <td>96.98</td>\n",
       "    </tr>\n",
       "    <tr>\n",
       "      <th>1962</th>\n",
       "      <td>4.10</td>\n",
       "      <td>1.96</td>\n",
       "      <td>104.39</td>\n",
       "    </tr>\n",
       "    <tr>\n",
       "      <th>1963</th>\n",
       "      <td>8.58</td>\n",
       "      <td>6.31</td>\n",
       "      <td>107.54</td>\n",
       "    </tr>\n",
       "    <tr>\n",
       "      <th>1964</th>\n",
       "      <td>4.95</td>\n",
       "      <td>2.74</td>\n",
       "      <td>113.17</td>\n",
       "    </tr>\n",
       "    <tr>\n",
       "      <th>1965</th>\n",
       "      <td>4.88</td>\n",
       "      <td>2.66</td>\n",
       "      <td>117.19</td>\n",
       "    </tr>\n",
       "  </tbody>\n",
       "</table>\n",
       "</div>"
      ],
      "text/plain": [
       "       GDP growth  GDP per capita growth  GDP per capita\n",
       "Years                                                   \n",
       "1961         0.19                  -1.82           96.98\n",
       "1962         4.10                   1.96          104.39\n",
       "1963         8.58                   6.31          107.54\n",
       "1964         4.95                   2.74          113.17\n",
       "1965         4.88                   2.66          117.19"
      ]
     },
     "execution_count": 33,
     "metadata": {},
     "output_type": "execute_result"
    }
   ],
   "source": [
    "#renamed colums to remove bracket, \n",
    "data.rename(columns = {'GDP growth (annual %)':'GDP growth','GDP per capita growth (annual %)':'GDP per capita growth','GDP per capita (current US$)':'GDP per capita'},inplace = True)\n",
    "data.set_index('Years', inplace=True) #set index to \n",
    "data.head()\n",
    "# Useful snippet for removing spaces in column\n",
    "#cols = data.columns\n",
    "# cols = cols.map(lambda x: x.replace(' ', '_') if isinstance(x, (str, unicode)) else x)\n",
    "# df.columns = cols"
   ]
  },
  {
   "cell_type": "code",
   "execution_count": 34,
   "metadata": {},
   "outputs": [
    {
     "data": {
      "image/png": "[encoded data removed]",
      "text/plain": [
       "<Figure size 1440x720 with 1 Axes>"
      ]
     },
     "metadata": {},
     "output_type": "display_data"
    },
    {
     "data": {
      "image/png": "[encoded data removed]",
      "text/plain": [
       "<Figure size 1440x720 with 1 Axes>"
      ]
     },
     "metadata": {},
     "output_type": "display_data"
    }
   ],
   "source": [
    "\n",
    "data[['GDP per capita']].plot(figsize=(20,10),linewidth=5, fontsize=20)\n",
    "data[['GDP per capita growth']].plot(figsize=(20,10),linewidth=5, fontsize=20)\n",
    "plt.xlabel('Year', fontsize=20);\n",
    "plt.ylabel('Currency in USD',fontsize=20);\n",
    "\n",
    "#data.plot()\n",
    "#plt.xlabel('Year', fontsize=20);\n",
    "\n",
    "# plt.xticks(x, my_xticks)\n",
    "# plt.yticks(np.arange(y.min(), y.max(), 50))\n",
    "# plt.plot(x, y)\n",
    "# plt.grid(axis='y', linestyle='-')\n",
    "#plt.show()"
   ]
  },
  {
   "cell_type": "code",
   "execution_count": 35,
   "metadata": {},
   "outputs": [
    {
     "data": {
      "text/plain": [
       "Date                              object\n",
       "Price in Contemporary Dollars    float64\n",
       "Unnamed: 2                       float64\n",
       "Growth rate                      float64\n",
       "dtype: object"
      ]
     },
     "execution_count": 35,
     "metadata": {},
     "output_type": "execute_result"
    }
   ],
   "source": [
    "data_oil.dtypes "
   ]
  },
  {
   "cell_type": "code",
   "execution_count": 36,
   "metadata": {},
   "outputs": [
    {
     "data": {
      "text/html": [
       "<div>\n",
       "<style scoped>\n",
       "    .dataframe tbody tr th:only-of-type {\n",
       "        vertical-align: middle;\n",
       "    }\n",
       "\n",
       "    .dataframe tbody tr th {\n",
       "        vertical-align: top;\n",
       "    }\n",
       "\n",
       "    .dataframe thead th {\n",
       "        text-align: right;\n",
       "    }\n",
       "</style>\n",
       "<table border=\"1\" class=\"dataframe\">\n",
       "  <thead>\n",
       "    <tr style=\"text-align: right;\">\n",
       "      <th></th>\n",
       "      <th>Date</th>\n",
       "      <th>Price in Contemporary Dollars</th>\n",
       "      <th>Unnamed: 2</th>\n",
       "      <th>Growth rate</th>\n",
       "    </tr>\n",
       "  </thead>\n",
       "  <tbody>\n",
       "    <tr>\n",
       "      <th>0</th>\n",
       "      <td>12/31/2016</td>\n",
       "      <td>43.734170</td>\n",
       "      <td>0.000000</td>\n",
       "      <td>0.000000</td>\n",
       "    </tr>\n",
       "    <tr>\n",
       "      <th>1</th>\n",
       "      <td>12/31/2015</td>\n",
       "      <td>52.386759</td>\n",
       "      <td>-0.165167</td>\n",
       "      <td>-16.516748</td>\n",
       "    </tr>\n",
       "    <tr>\n",
       "      <th>2</th>\n",
       "      <td>12/31/2014</td>\n",
       "      <td>98.946008</td>\n",
       "      <td>-0.470552</td>\n",
       "      <td>-47.055207</td>\n",
       "    </tr>\n",
       "    <tr>\n",
       "      <th>3</th>\n",
       "      <td>12/31/2013</td>\n",
       "      <td>108.658518</td>\n",
       "      <td>-0.089386</td>\n",
       "      <td>-8.938563</td>\n",
       "    </tr>\n",
       "    <tr>\n",
       "      <th>4</th>\n",
       "      <td>12/31/2012</td>\n",
       "      <td>111.669702</td>\n",
       "      <td>-0.026965</td>\n",
       "      <td>-2.696510</td>\n",
       "    </tr>\n",
       "  </tbody>\n",
       "</table>\n",
       "</div>"
      ],
      "text/plain": [
       "         Date  Price in Contemporary Dollars  Unnamed: 2  Growth rate\n",
       "0  12/31/2016                      43.734170    0.000000     0.000000\n",
       "1  12/31/2015                      52.386759   -0.165167   -16.516748\n",
       "2  12/31/2014                      98.946008   -0.470552   -47.055207\n",
       "3  12/31/2013                     108.658518   -0.089386    -8.938563\n",
       "4  12/31/2012                     111.669702   -0.026965    -2.696510"
      ]
     },
     "execution_count": 36,
     "metadata": {},
     "output_type": "execute_result"
    }
   ],
   "source": [
    "data_oil.head()"
   ]
  },
  {
   "cell_type": "code",
   "execution_count": 37,
   "metadata": {},
   "outputs": [],
   "source": [
    "data_oil.drop(columns = 'Unnamed: 2', axis=1, inplace = True)  #drop Unamed Column"
   ]
  },
  {
   "cell_type": "code",
   "execution_count": 38,
   "metadata": {},
   "outputs": [
    {
     "data": {
      "text/html": [
       "<div>\n",
       "<style scoped>\n",
       "    .dataframe tbody tr th:only-of-type {\n",
       "        vertical-align: middle;\n",
       "    }\n",
       "\n",
       "    .dataframe tbody tr th {\n",
       "        vertical-align: top;\n",
       "    }\n",
       "\n",
       "    .dataframe thead th {\n",
       "        text-align: right;\n",
       "    }\n",
       "</style>\n",
       "<table border=\"1\" class=\"dataframe\">\n",
       "  <thead>\n",
       "    <tr style=\"text-align: right;\">\n",
       "      <th></th>\n",
       "      <th>Date</th>\n",
       "      <th>Price in Contemporary Dollars</th>\n",
       "      <th>Growth rate</th>\n",
       "    </tr>\n",
       "  </thead>\n",
       "  <tbody>\n",
       "    <tr>\n",
       "      <th>0</th>\n",
       "      <td>2016</td>\n",
       "      <td>43.734170</td>\n",
       "      <td>0.000000</td>\n",
       "    </tr>\n",
       "    <tr>\n",
       "      <th>1</th>\n",
       "      <td>2015</td>\n",
       "      <td>52.386759</td>\n",
       "      <td>-16.516748</td>\n",
       "    </tr>\n",
       "    <tr>\n",
       "      <th>2</th>\n",
       "      <td>2014</td>\n",
       "      <td>98.946008</td>\n",
       "      <td>-47.055207</td>\n",
       "    </tr>\n",
       "    <tr>\n",
       "      <th>3</th>\n",
       "      <td>2013</td>\n",
       "      <td>108.658518</td>\n",
       "      <td>-8.938563</td>\n",
       "    </tr>\n",
       "    <tr>\n",
       "      <th>4</th>\n",
       "      <td>2012</td>\n",
       "      <td>111.669702</td>\n",
       "      <td>-2.696510</td>\n",
       "    </tr>\n",
       "  </tbody>\n",
       "</table>\n",
       "</div>"
      ],
      "text/plain": [
       "   Date  Price in Contemporary Dollars  Growth rate\n",
       "0  2016                      43.734170     0.000000\n",
       "1  2015                      52.386759   -16.516748\n",
       "2  2014                      98.946008   -47.055207\n",
       "3  2013                     108.658518    -8.938563\n",
       "4  2012                     111.669702    -2.696510"
      ]
     },
     "execution_count": 38,
     "metadata": {},
     "output_type": "execute_result"
    }
   ],
   "source": [
    "#data_oil['Date']  #convert generic object to datetime object and pick only the year\n",
    "data_oil['Date'] = pd.to_datetime(data_oil['Date']).dt.year;\n",
    "data_oil.head()"
   ]
  },
  {
   "cell_type": "code",
   "execution_count": 39,
   "metadata": {},
   "outputs": [],
   "source": [
    "#lets filter our dataset to include only year > 1960\n",
    "data_oil = data_oil[data_oil['Date'] > 1960]   "
   ]
  },
  {
   "cell_type": "code",
   "execution_count": 40,
   "metadata": {},
   "outputs": [
    {
     "data": {
      "text/plain": [
       "'Date'"
      ]
     },
     "execution_count": 40,
     "metadata": {},
     "output_type": "execute_result"
    }
   ],
   "source": [
    "data_oil.columns[0]"
   ]
  },
  {
   "cell_type": "code",
   "execution_count": 41,
   "metadata": {},
   "outputs": [
    {
     "data": {
      "text/html": [
       "<div>\n",
       "<style scoped>\n",
       "    .dataframe tbody tr th:only-of-type {\n",
       "        vertical-align: middle;\n",
       "    }\n",
       "\n",
       "    .dataframe tbody tr th {\n",
       "        vertical-align: top;\n",
       "    }\n",
       "\n",
       "    .dataframe thead th {\n",
       "        text-align: right;\n",
       "    }\n",
       "</style>\n",
       "<table border=\"1\" class=\"dataframe\">\n",
       "  <thead>\n",
       "    <tr style=\"text-align: right;\">\n",
       "      <th></th>\n",
       "      <th>Date</th>\n",
       "      <th>Price in Contemporary Dollars</th>\n",
       "      <th>Growth rate</th>\n",
       "    </tr>\n",
       "  </thead>\n",
       "  <tbody>\n",
       "    <tr>\n",
       "      <th>0</th>\n",
       "      <td>2016</td>\n",
       "      <td>43.734170</td>\n",
       "      <td>0.000000</td>\n",
       "    </tr>\n",
       "    <tr>\n",
       "      <th>1</th>\n",
       "      <td>2015</td>\n",
       "      <td>52.386759</td>\n",
       "      <td>-16.516748</td>\n",
       "    </tr>\n",
       "    <tr>\n",
       "      <th>2</th>\n",
       "      <td>2014</td>\n",
       "      <td>98.946008</td>\n",
       "      <td>-47.055207</td>\n",
       "    </tr>\n",
       "    <tr>\n",
       "      <th>3</th>\n",
       "      <td>2013</td>\n",
       "      <td>108.658518</td>\n",
       "      <td>-8.938563</td>\n",
       "    </tr>\n",
       "    <tr>\n",
       "      <th>4</th>\n",
       "      <td>2012</td>\n",
       "      <td>111.669702</td>\n",
       "      <td>-2.696510</td>\n",
       "    </tr>\n",
       "    <tr>\n",
       "      <th>5</th>\n",
       "      <td>2011</td>\n",
       "      <td>111.255598</td>\n",
       "      <td>0.372210</td>\n",
       "    </tr>\n",
       "    <tr>\n",
       "      <th>6</th>\n",
       "      <td>2010</td>\n",
       "      <td>79.495534</td>\n",
       "      <td>39.952011</td>\n",
       "    </tr>\n",
       "    <tr>\n",
       "      <th>7</th>\n",
       "      <td>2009</td>\n",
       "      <td>61.671265</td>\n",
       "      <td>28.902065</td>\n",
       "    </tr>\n",
       "    <tr>\n",
       "      <th>8</th>\n",
       "      <td>2008</td>\n",
       "      <td>97.255973</td>\n",
       "      <td>-36.588712</td>\n",
       "    </tr>\n",
       "    <tr>\n",
       "      <th>9</th>\n",
       "      <td>2007</td>\n",
       "      <td>72.389078</td>\n",
       "      <td>34.351721</td>\n",
       "    </tr>\n",
       "  </tbody>\n",
       "</table>\n",
       "</div>"
      ],
      "text/plain": [
       "   Date  Price in Contemporary Dollars  Growth rate\n",
       "0  2016                      43.734170     0.000000\n",
       "1  2015                      52.386759   -16.516748\n",
       "2  2014                      98.946008   -47.055207\n",
       "3  2013                     108.658518    -8.938563\n",
       "4  2012                     111.669702    -2.696510\n",
       "5  2011                     111.255598     0.372210\n",
       "6  2010                      79.495534    39.952011\n",
       "7  2009                      61.671265    28.902065\n",
       "8  2008                      97.255973   -36.588712\n",
       "9  2007                      72.389078    34.351721"
      ]
     },
     "execution_count": 41,
     "metadata": {},
     "output_type": "execute_result"
    }
   ],
   "source": [
    "#data_oil = data_oil.sort_values(data_oil.columns[0])\n",
    "#data_oil = data_oil.round(2) #round up data to 2 decimal places\n",
    "data_oil = data_oil.reset_index(drop=True) #reset index\n",
    "#data_oil\n",
    "data_oil[:10] #lets slice this baby select 0-9"
   ]
  },
  {
   "cell_type": "code",
   "execution_count": 42,
   "metadata": {},
   "outputs": [],
   "source": [
    "# Use .apply() to apply a custom function to the weekdays column\n",
    "#df['d'],df['rowIndex'] = df['a'] + df['b'] * df['c'], df.index\n",
    "#I was rying to form Bill gate here o\n",
    "#data_oil['index'] = range(1,57)\n",
    "#data_oil['Price in Contemporary Dollars'].iloc[[0]]=0\n",
    "#data_oil.iloc[56] = 0\n",
    "#data_oil.head()\n",
    "#((B2/B3) - 1)*100"
   ]
  },
  {
   "cell_type": "code",
   "execution_count": 43,
   "metadata": {
    "scrolled": true
   },
   "outputs": [],
   "source": [
    "#oil_prices = data_oil['Price in Contemporary Dollars']\n",
    "#data_oil['index']\n",
    "#growth_rate = lambda x: (oil_prices[x]/oil_prices[x])*100\n",
    "#data_oil['result'] = data_oil['index'].apply(growth_rate)\n",
    "\n",
    "\n"
   ]
  },
  {
   "cell_type": "code",
   "execution_count": 44,
   "metadata": {},
   "outputs": [],
   "source": [
    "\n",
    "oil_prices = data_oil['Price in Contemporary Dollars']\n",
    "oil_growth = data_oil['Growth rate']"
   ]
  },
  {
   "cell_type": "code",
   "execution_count": 45,
   "metadata": {},
   "outputs": [
    {
     "data": {
      "text/html": [
       "<div>\n",
       "<style scoped>\n",
       "    .dataframe tbody tr th:only-of-type {\n",
       "        vertical-align: middle;\n",
       "    }\n",
       "\n",
       "    .dataframe tbody tr th {\n",
       "        vertical-align: top;\n",
       "    }\n",
       "\n",
       "    .dataframe thead th {\n",
       "        text-align: right;\n",
       "    }\n",
       "</style>\n",
       "<table border=\"1\" class=\"dataframe\">\n",
       "  <thead>\n",
       "    <tr style=\"text-align: right;\">\n",
       "      <th></th>\n",
       "      <th>Date</th>\n",
       "      <th>Price in Contemporary Dollars</th>\n",
       "      <th>Growth rate</th>\n",
       "    </tr>\n",
       "  </thead>\n",
       "  <tbody>\n",
       "    <tr>\n",
       "      <th>0</th>\n",
       "      <td>2016</td>\n",
       "      <td>43.734170</td>\n",
       "      <td>0.000000</td>\n",
       "    </tr>\n",
       "    <tr>\n",
       "      <th>1</th>\n",
       "      <td>2015</td>\n",
       "      <td>52.386759</td>\n",
       "      <td>-16.516748</td>\n",
       "    </tr>\n",
       "    <tr>\n",
       "      <th>2</th>\n",
       "      <td>2014</td>\n",
       "      <td>98.946008</td>\n",
       "      <td>-47.055207</td>\n",
       "    </tr>\n",
       "    <tr>\n",
       "      <th>3</th>\n",
       "      <td>2013</td>\n",
       "      <td>108.658518</td>\n",
       "      <td>-8.938563</td>\n",
       "    </tr>\n",
       "    <tr>\n",
       "      <th>4</th>\n",
       "      <td>2012</td>\n",
       "      <td>111.669702</td>\n",
       "      <td>-2.696510</td>\n",
       "    </tr>\n",
       "  </tbody>\n",
       "</table>\n",
       "</div>"
      ],
      "text/plain": [
       "   Date  Price in Contemporary Dollars  Growth rate\n",
       "0  2016                      43.734170     0.000000\n",
       "1  2015                      52.386759   -16.516748\n",
       "2  2014                      98.946008   -47.055207\n",
       "3  2013                     108.658518    -8.938563\n",
       "4  2012                     111.669702    -2.696510"
      ]
     },
     "execution_count": 45,
     "metadata": {},
     "output_type": "execute_result"
    }
   ],
   "source": [
    "#dataet for oil prices\n",
    "data_oil.head()"
   ]
  },
  {
   "cell_type": "code",
   "execution_count": 46,
   "metadata": {},
   "outputs": [
    {
     "data": {
      "text/html": [
       "<div>\n",
       "<style scoped>\n",
       "    .dataframe tbody tr th:only-of-type {\n",
       "        vertical-align: middle;\n",
       "    }\n",
       "\n",
       "    .dataframe tbody tr th {\n",
       "        vertical-align: top;\n",
       "    }\n",
       "\n",
       "    .dataframe thead th {\n",
       "        text-align: right;\n",
       "    }\n",
       "</style>\n",
       "<table border=\"1\" class=\"dataframe\">\n",
       "  <thead>\n",
       "    <tr style=\"text-align: right;\">\n",
       "      <th></th>\n",
       "      <th>GDP growth</th>\n",
       "      <th>GDP per capita growth</th>\n",
       "      <th>GDP per capita</th>\n",
       "    </tr>\n",
       "    <tr>\n",
       "      <th>Years</th>\n",
       "      <th></th>\n",
       "      <th></th>\n",
       "      <th></th>\n",
       "    </tr>\n",
       "  </thead>\n",
       "  <tbody>\n",
       "    <tr>\n",
       "      <th>1961</th>\n",
       "      <td>0.19</td>\n",
       "      <td>-1.82</td>\n",
       "      <td>96.98</td>\n",
       "    </tr>\n",
       "    <tr>\n",
       "      <th>1962</th>\n",
       "      <td>4.10</td>\n",
       "      <td>1.96</td>\n",
       "      <td>104.39</td>\n",
       "    </tr>\n",
       "    <tr>\n",
       "      <th>1963</th>\n",
       "      <td>8.58</td>\n",
       "      <td>6.31</td>\n",
       "      <td>107.54</td>\n",
       "    </tr>\n",
       "    <tr>\n",
       "      <th>1964</th>\n",
       "      <td>4.95</td>\n",
       "      <td>2.74</td>\n",
       "      <td>113.17</td>\n",
       "    </tr>\n",
       "    <tr>\n",
       "      <th>1965</th>\n",
       "      <td>4.88</td>\n",
       "      <td>2.66</td>\n",
       "      <td>117.19</td>\n",
       "    </tr>\n",
       "  </tbody>\n",
       "</table>\n",
       "</div>"
      ],
      "text/plain": [
       "       GDP growth  GDP per capita growth  GDP per capita\n",
       "Years                                                   \n",
       "1961         0.19                  -1.82           96.98\n",
       "1962         4.10                   1.96          104.39\n",
       "1963         8.58                   6.31          107.54\n",
       "1964         4.95                   2.74          113.17\n",
       "1965         4.88                   2.66          117.19"
      ]
     },
     "execution_count": 46,
     "metadata": {},
     "output_type": "execute_result"
    }
   ],
   "source": [
    "#dataet for oil prices\n",
    "data_oil.set_index('Date', inplace=True) #set index to \n",
    "data.head()"
   ]
  },
  {
   "cell_type": "code",
   "execution_count": 47,
   "metadata": {},
   "outputs": [],
   "source": [
    "\n",
    "oil_prices = data_oil['Price in Contemporary Dollars']\n",
    "oil_growth = data_oil['Growth rate']"
   ]
  },
  {
   "cell_type": "code",
   "execution_count": 48,
   "metadata": {},
   "outputs": [],
   "source": [
    "#merge the oilprices dataset with gdp dataset\n",
    "# assign() it to our dataframe\n",
    "data = data.assign(oil_prices=oil_prices,oil_growth=oil_growth) #we can also use this but is the below one  easier to type?Idk\n",
    "#data['oil_prices'] = oil_prices\n",
    "#data['oil_growth'] = oil_growth\n",
    "#oil_prices.head()\n",
    "#data = data.assign(oil_prices=oil_prices)\n",
    "data['GDP growth'] = data['GDP growth']*100"
   ]
  },
  {
   "cell_type": "code",
   "execution_count": 49,
   "metadata": {},
   "outputs": [
    {
     "data": {
      "text/html": [
       "<div>\n",
       "<style scoped>\n",
       "    .dataframe tbody tr th:only-of-type {\n",
       "        vertical-align: middle;\n",
       "    }\n",
       "\n",
       "    .dataframe tbody tr th {\n",
       "        vertical-align: top;\n",
       "    }\n",
       "\n",
       "    .dataframe thead th {\n",
       "        text-align: right;\n",
       "    }\n",
       "</style>\n",
       "<table border=\"1\" class=\"dataframe\">\n",
       "  <thead>\n",
       "    <tr style=\"text-align: right;\">\n",
       "      <th></th>\n",
       "      <th>GDP growth</th>\n",
       "      <th>GDP per capita growth</th>\n",
       "      <th>GDP per capita</th>\n",
       "      <th>oil_prices</th>\n",
       "      <th>oil_growth</th>\n",
       "    </tr>\n",
       "    <tr>\n",
       "      <th>Years</th>\n",
       "      <th></th>\n",
       "      <th></th>\n",
       "      <th></th>\n",
       "      <th></th>\n",
       "      <th></th>\n",
       "    </tr>\n",
       "  </thead>\n",
       "  <tbody>\n",
       "    <tr>\n",
       "      <th>2012</th>\n",
       "      <td>428.0</td>\n",
       "      <td>1.52</td>\n",
       "      <td>2755.30</td>\n",
       "      <td>111.669702</td>\n",
       "      <td>-2.696510</td>\n",
       "    </tr>\n",
       "    <tr>\n",
       "      <th>2013</th>\n",
       "      <td>539.0</td>\n",
       "      <td>2.61</td>\n",
       "      <td>2996.96</td>\n",
       "      <td>108.658518</td>\n",
       "      <td>-8.938563</td>\n",
       "    </tr>\n",
       "    <tr>\n",
       "      <th>2014</th>\n",
       "      <td>631.0</td>\n",
       "      <td>3.52</td>\n",
       "      <td>3221.68</td>\n",
       "      <td>98.946008</td>\n",
       "      <td>-47.055207</td>\n",
       "    </tr>\n",
       "    <tr>\n",
       "      <th>2015</th>\n",
       "      <td>265.0</td>\n",
       "      <td>-0.02</td>\n",
       "      <td>2655.16</td>\n",
       "      <td>52.386759</td>\n",
       "      <td>-16.516748</td>\n",
       "    </tr>\n",
       "    <tr>\n",
       "      <th>2016</th>\n",
       "      <td>-162.0</td>\n",
       "      <td>-4.16</td>\n",
       "      <td>2175.67</td>\n",
       "      <td>43.734170</td>\n",
       "      <td>0.000000</td>\n",
       "    </tr>\n",
       "  </tbody>\n",
       "</table>\n",
       "</div>"
      ],
      "text/plain": [
       "       GDP growth  GDP per capita growth  GDP per capita  oil_prices  \\\n",
       "Years                                                                  \n",
       "2012        428.0                   1.52         2755.30  111.669702   \n",
       "2013        539.0                   2.61         2996.96  108.658518   \n",
       "2014        631.0                   3.52         3221.68   98.946008   \n",
       "2015        265.0                  -0.02         2655.16   52.386759   \n",
       "2016       -162.0                  -4.16         2175.67   43.734170   \n",
       "\n",
       "       oil_growth  \n",
       "Years              \n",
       "2012    -2.696510  \n",
       "2013    -8.938563  \n",
       "2014   -47.055207  \n",
       "2015   -16.516748  \n",
       "2016     0.000000  "
      ]
     },
     "execution_count": 49,
     "metadata": {},
     "output_type": "execute_result"
    }
   ],
   "source": [
    "data.tail()"
   ]
  },
  {
   "cell_type": "code",
   "execution_count": 56,
   "metadata": {},
   "outputs": [
    {
     "data": {
      "text/plain": [
       "<matplotlib.legend.Legend at 0x1f8667bdb00>"
      ]
     },
     "execution_count": 56,
     "metadata": {},
     "output_type": "execute_result"
    },
    {
     "data": {
      "image/png": "[encoded data removed]",
      "text/plain": [
       "<Figure size 1440x720 with 1 Axes>"
      ]
     },
     "metadata": {},
     "output_type": "display_data"
    }
   ],
   "source": [
    "data['oil_growth'].plot.bar(figsize=(30,10),linewidth=5, fontsize=20 )#\n",
    "data['GDP growth'].plot.bar(figsize=(20,10),linewidth=5, fontsize=20)#\n",
    "#plt.plot(data.oil_prices,)\n",
    "#data[['GDP per capita growth']].plot(figsize=(20,10),linewidth=5, fontsize=20)\n",
    "plt.xlabel('Year', fontsize=20);\n",
    "plt.ylabel('Currency in USD',fontsize=20);\n",
    "plt.legend(['Oil prices', 'Gdp'])\n"
   ]
  },
  {
   "cell_type": "code",
   "execution_count": null,
   "metadata": {},
   "outputs": [],
   "source": [
    "data[['oil_growth']].plot(figsize=(20,10),linewidth=5, fontsize=20 )#"
   ]
  },
  {
   "cell_type": "code",
   "execution_count": 52,
   "metadata": {},
   "outputs": [
    {
     "data": {
      "text/plain": [
       "<matplotlib.axes._subplots.AxesSubplot at 0x1f865bf1048>"
      ]
     },
     "execution_count": 52,
     "metadata": {},
     "output_type": "execute_result"
    },
    {
     "data": {
      "image/png": "[encoded data removed]",
      "text/plain": [
       "<Figure size 1440x720 with 1 Axes>"
      ]
     },
     "metadata": {},
     "output_type": "display_data"
    }
   ],
   "source": [
    "data[['GDP growth']].plot(figsize=(20,10),linewidth=5, fontsize=20 )#"
   ]
  },
  {
   "cell_type": "code",
   "execution_count": 65,
   "metadata": {},
   "outputs": [
    {
     "data": {
      "image/png": "[encoded data removed]",
      "text/plain": [
       "<Figure size 432x288 with 1 Axes>"
      ]
     },
     "metadata": {},
     "output_type": "display_data"
    }
   ],
   "source": [
    "# data to plot\n",
    "n_groups = len(data.index)\n",
    "oil_growth =  data['oil_growth']\n",
    "gdp_growth = data['GDP growth']\n",
    "# data['oil_growth'].plot(figsize=(20,10),linewidth=5, fontsize=20 )#\n",
    "#data['GDP growth'].plot(figsize=(20,10),linewidth=5, fontsize=20)#\n",
    "# create plot\n",
    "fig, ax = plt.subplots()\n",
    "index = np.arange(n_groups)\n",
    "bar_width = 0.35\n",
    "opacity = 0.8\n",
    " \n",
    "rects1 = plt.bar(index, oil_growth, bar_width,\n",
    "                 alpha=opacity,\n",
    "                 color='b',\n",
    "                 label='Frank')\n",
    " \n",
    "rects2 = plt.bar(index + bar_width, gdp_growth, bar_width,\n",
    "                 alpha=opacity,\n",
    "                 color='g',\n",
    "                 label='Guido')\n",
    " \n",
    "plt.xlabel('Growth Percentage')\n",
    "plt.ylabel('Years')\n",
    "plt.title('Comparison Between Oil Growth and Gdp Growth')\n",
    "#plt.xticks(index + bar_width, (data.index))\n",
    "plt.legend()\n",
    " \n",
    "plt.tight_layout()\n",
    "plt.show()"
   ]
  },
  {
   "cell_type": "code",
   "execution_count": null,
   "metadata": {},
   "outputs": [],
   "source": []
  },
  {
   "cell_type": "code",
   "execution_count": null,
   "metadata": {},
   "outputs": [],
   "source": []
  },
  {
   "cell_type": "code",
   "execution_count": null,
   "metadata": {},
   "outputs": [],
   "source": []
  },
  {
   "cell_type": "code",
   "execution_count": null,
   "metadata": {},
   "outputs": [],
   "source": []
  }
 ],
 "metadata": {
  "kernelspec": {
   "display_name": "Python 3",
   "language": "python",
   "name": "python3"
  },
  "language_info": {
   "codemirror_mode": {
    "name": "ipython",
    "version": 3
   },
   "file_extension": ".py",
   "mimetype": "text/x-python",
   "name": "python",
   "nbconvert_exporter": "python",
   "pygments_lexer": "ipython3",
   "version": "3.6.5"
  }
 },
 "nbformat": 4,
 "nbformat_minor": 2
}
