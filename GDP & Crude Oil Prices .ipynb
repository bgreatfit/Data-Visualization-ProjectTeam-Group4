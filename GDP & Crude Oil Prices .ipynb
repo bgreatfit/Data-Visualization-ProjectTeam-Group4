{
 "cells": [
  {
   "cell_type": "code",
   "execution_count": 164,
   "metadata": {},
   "outputs": [],
   "source": [
    "import pandas as pd #pandas library\n",
    "import numpy as np  #numpy library\n",
    "%matplotlib inline \n",
    "import matplotlib.pyplot as plt #import matplotlib same as from maplotlib import pyplot as plt\n"
   ]
  },
  {
   "cell_type": "code",
   "execution_count": 165,
   "metadata": {},
   "outputs": [],
   "source": [
    "#Load our external file\n",
    "data = pd.read_excel('nigeria_gdp.xlsx',skiprows=7)"
   ]
  },
  {
   "cell_type": "code",
   "execution_count": 166,
   "metadata": {},
   "outputs": [
    {
     "data": {
      "text/html": [
       "<div>\n",
       "<style scoped>\n",
       "    .dataframe tbody tr th:only-of-type {\n",
       "        vertical-align: middle;\n",
       "    }\n",
       "\n",
       "    .dataframe tbody tr th {\n",
       "        vertical-align: top;\n",
       "    }\n",
       "\n",
       "    .dataframe thead th {\n",
       "        text-align: right;\n",
       "    }\n",
       "</style>\n",
       "<table border=\"1\" class=\"dataframe\">\n",
       "  <thead>\n",
       "    <tr style=\"text-align: right;\">\n",
       "      <th></th>\n",
       "      <th>Unnamed: 0</th>\n",
       "      <th>GDP growth (annual %)</th>\n",
       "      <th>GDP per capita growth (annual %)</th>\n",
       "      <th>GDP (constant LCU)</th>\n",
       "      <th>GDP per capita (constant LCU)</th>\n",
       "      <th>GDP (current LCU)</th>\n",
       "      <th>GDP (current US$)</th>\n",
       "      <th>GDP per capita (current US$)</th>\n",
       "      <th>GDP, PPP (current international $)</th>\n",
       "    </tr>\n",
       "  </thead>\n",
       "  <tbody>\n",
       "    <tr>\n",
       "      <th>0</th>\n",
       "      <td>Units</td>\n",
       "      <td>%</td>\n",
       "      <td>%</td>\n",
       "      <td>constant LCU</td>\n",
       "      <td>constant LCU</td>\n",
       "      <td>current LCU</td>\n",
       "      <td>current US$</td>\n",
       "      <td>current US$</td>\n",
       "      <td>current international $</td>\n",
       "    </tr>\n",
       "    <tr>\n",
       "      <th>1</th>\n",
       "      <td>1960</td>\n",
       "      <td>NaN</td>\n",
       "      <td>NaN</td>\n",
       "      <td>8819015424300</td>\n",
       "      <td>195380</td>\n",
       "      <td>2997268700</td>\n",
       "      <td>4.19609e+09</td>\n",
       "      <td>92.9618</td>\n",
       "      <td>NaN</td>\n",
       "    </tr>\n",
       "    <tr>\n",
       "      <th>2</th>\n",
       "      <td>1961</td>\n",
       "      <td>0.191795</td>\n",
       "      <td>-1.82038</td>\n",
       "      <td>8835929898100</td>\n",
       "      <td>191823</td>\n",
       "      <td>3190921200</td>\n",
       "      <td>4.4672e+09</td>\n",
       "      <td>96.9804</td>\n",
       "      <td>NaN</td>\n",
       "    </tr>\n",
       "    <tr>\n",
       "      <th>3</th>\n",
       "      <td>1962</td>\n",
       "      <td>4.10299</td>\n",
       "      <td>1.96415</td>\n",
       "      <td>9198467447000</td>\n",
       "      <td>195591</td>\n",
       "      <td>3506715100</td>\n",
       "      <td>4.9093e+09</td>\n",
       "      <td>104.389</td>\n",
       "      <td>NaN</td>\n",
       "    </tr>\n",
       "    <tr>\n",
       "      <th>4</th>\n",
       "      <td>1963</td>\n",
       "      <td>8.57862</td>\n",
       "      <td>6.31106</td>\n",
       "      <td>9987568915800</td>\n",
       "      <td>207935</td>\n",
       "      <td>3689708800</td>\n",
       "      <td>5.16549e+09</td>\n",
       "      <td>107.542</td>\n",
       "      <td>NaN</td>\n",
       "    </tr>\n",
       "  </tbody>\n",
       "</table>\n",
       "</div>"
      ],
      "text/plain": [
       "  Unnamed: 0 GDP growth (annual %) GDP per capita growth (annual %)  \\\n",
       "0      Units                     %                                %   \n",
       "1       1960                   NaN                              NaN   \n",
       "2       1961              0.191795                         -1.82038   \n",
       "3       1962               4.10299                          1.96415   \n",
       "4       1963               8.57862                          6.31106   \n",
       "\n",
       "  GDP (constant LCU) GDP per capita (constant LCU) GDP (current LCU)  \\\n",
       "0       constant LCU                  constant LCU       current LCU   \n",
       "1      8819015424300                        195380        2997268700   \n",
       "2      8835929898100                        191823        3190921200   \n",
       "3      9198467447000                        195591        3506715100   \n",
       "4      9987568915800                        207935        3689708800   \n",
       "\n",
       "  GDP (current US$) GDP per capita (current US$)  \\\n",
       "0       current US$                  current US$   \n",
       "1       4.19609e+09                      92.9618   \n",
       "2        4.4672e+09                      96.9804   \n",
       "3        4.9093e+09                      104.389   \n",
       "4       5.16549e+09                      107.542   \n",
       "\n",
       "  GDP, PPP (current international $)  \n",
       "0            current international $  \n",
       "1                                NaN  \n",
       "2                                NaN  \n",
       "3                                NaN  \n",
       "4                                NaN  "
      ]
     },
     "execution_count": 166,
     "metadata": {},
     "output_type": "execute_result"
    }
   ],
   "source": [
    "data.head()\n",
    "#From the below dataset we need to drop irrelevant columns "
   ]
  },
  {
   "cell_type": "code",
   "execution_count": 167,
   "metadata": {},
   "outputs": [],
   "source": [
    "data.drop(columns = ['GDP (constant LCU)','GDP (current LCU)','GDP per capita (constant LCU)','GDP (current LCU)','GDP (current US$)','GDP, PPP (current international $)'], inplace = True)"
   ]
  },
  {
   "cell_type": "code",
   "execution_count": 168,
   "metadata": {},
   "outputs": [
    {
     "data": {
      "text/html": [
       "<div>\n",
       "<style scoped>\n",
       "    .dataframe tbody tr th:only-of-type {\n",
       "        vertical-align: middle;\n",
       "    }\n",
       "\n",
       "    .dataframe tbody tr th {\n",
       "        vertical-align: top;\n",
       "    }\n",
       "\n",
       "    .dataframe thead th {\n",
       "        text-align: right;\n",
       "    }\n",
       "</style>\n",
       "<table border=\"1\" class=\"dataframe\">\n",
       "  <thead>\n",
       "    <tr style=\"text-align: right;\">\n",
       "      <th></th>\n",
       "      <th>Unnamed: 0</th>\n",
       "      <th>GDP growth (annual %)</th>\n",
       "      <th>GDP per capita growth (annual %)</th>\n",
       "      <th>GDP per capita (current US$)</th>\n",
       "    </tr>\n",
       "  </thead>\n",
       "  <tbody>\n",
       "    <tr>\n",
       "      <th>0</th>\n",
       "      <td>Units</td>\n",
       "      <td>%</td>\n",
       "      <td>%</td>\n",
       "      <td>current US$</td>\n",
       "    </tr>\n",
       "    <tr>\n",
       "      <th>1</th>\n",
       "      <td>1960</td>\n",
       "      <td>NaN</td>\n",
       "      <td>NaN</td>\n",
       "      <td>92.9618</td>\n",
       "    </tr>\n",
       "    <tr>\n",
       "      <th>2</th>\n",
       "      <td>1961</td>\n",
       "      <td>0.191795</td>\n",
       "      <td>-1.82038</td>\n",
       "      <td>96.9804</td>\n",
       "    </tr>\n",
       "    <tr>\n",
       "      <th>3</th>\n",
       "      <td>1962</td>\n",
       "      <td>4.10299</td>\n",
       "      <td>1.96415</td>\n",
       "      <td>104.389</td>\n",
       "    </tr>\n",
       "    <tr>\n",
       "      <th>4</th>\n",
       "      <td>1963</td>\n",
       "      <td>8.57862</td>\n",
       "      <td>6.31106</td>\n",
       "      <td>107.542</td>\n",
       "    </tr>\n",
       "  </tbody>\n",
       "</table>\n",
       "</div>"
      ],
      "text/plain": [
       "  Unnamed: 0 GDP growth (annual %) GDP per capita growth (annual %)  \\\n",
       "0      Units                     %                                %   \n",
       "1       1960                   NaN                              NaN   \n",
       "2       1961              0.191795                         -1.82038   \n",
       "3       1962               4.10299                          1.96415   \n",
       "4       1963               8.57862                          6.31106   \n",
       "\n",
       "  GDP per capita (current US$)  \n",
       "0                  current US$  \n",
       "1                      92.9618  \n",
       "2                      96.9804  \n",
       "3                      104.389  \n",
       "4                      107.542  "
      ]
     },
     "execution_count": 168,
     "metadata": {},
     "output_type": "execute_result"
    }
   ],
   "source": [
    "data.head() "
   ]
  },
  {
   "cell_type": "code",
   "execution_count": 169,
   "metadata": {},
   "outputs": [],
   "source": [
    "data.drop(0,axis = 0, inplace = True)  #drop row 0 since it contains column names"
   ]
  },
  {
   "cell_type": "code",
   "execution_count": 170,
   "metadata": {},
   "outputs": [
    {
     "data": {
      "text/html": [
       "<div>\n",
       "<style scoped>\n",
       "    .dataframe tbody tr th:only-of-type {\n",
       "        vertical-align: middle;\n",
       "    }\n",
       "\n",
       "    .dataframe tbody tr th {\n",
       "        vertical-align: top;\n",
       "    }\n",
       "\n",
       "    .dataframe thead th {\n",
       "        text-align: right;\n",
       "    }\n",
       "</style>\n",
       "<table border=\"1\" class=\"dataframe\">\n",
       "  <thead>\n",
       "    <tr style=\"text-align: right;\">\n",
       "      <th></th>\n",
       "      <th>Unnamed: 0</th>\n",
       "      <th>GDP growth (annual %)</th>\n",
       "      <th>GDP per capita growth (annual %)</th>\n",
       "      <th>GDP per capita (current US$)</th>\n",
       "    </tr>\n",
       "  </thead>\n",
       "  <tbody>\n",
       "    <tr>\n",
       "      <th>1</th>\n",
       "      <td>1960</td>\n",
       "      <td>NaN</td>\n",
       "      <td>NaN</td>\n",
       "      <td>92.9618</td>\n",
       "    </tr>\n",
       "    <tr>\n",
       "      <th>2</th>\n",
       "      <td>1961</td>\n",
       "      <td>0.191795</td>\n",
       "      <td>-1.82038</td>\n",
       "      <td>96.9804</td>\n",
       "    </tr>\n",
       "    <tr>\n",
       "      <th>3</th>\n",
       "      <td>1962</td>\n",
       "      <td>4.10299</td>\n",
       "      <td>1.96415</td>\n",
       "      <td>104.389</td>\n",
       "    </tr>\n",
       "    <tr>\n",
       "      <th>4</th>\n",
       "      <td>1963</td>\n",
       "      <td>8.57862</td>\n",
       "      <td>6.31106</td>\n",
       "      <td>107.542</td>\n",
       "    </tr>\n",
       "    <tr>\n",
       "      <th>5</th>\n",
       "      <td>1964</td>\n",
       "      <td>4.95049</td>\n",
       "      <td>2.7392</td>\n",
       "      <td>113.17</td>\n",
       "    </tr>\n",
       "  </tbody>\n",
       "</table>\n",
       "</div>"
      ],
      "text/plain": [
       "  Unnamed: 0 GDP growth (annual %) GDP per capita growth (annual %)  \\\n",
       "1       1960                   NaN                              NaN   \n",
       "2       1961              0.191795                         -1.82038   \n",
       "3       1962               4.10299                          1.96415   \n",
       "4       1963               8.57862                          6.31106   \n",
       "5       1964               4.95049                           2.7392   \n",
       "\n",
       "  GDP per capita (current US$)  \n",
       "1                      92.9618  \n",
       "2                      96.9804  \n",
       "3                      104.389  \n",
       "4                      107.542  \n",
       "5                       113.17  "
      ]
     },
     "execution_count": 170,
     "metadata": {},
     "output_type": "execute_result"
    }
   ],
   "source": [
    "data.head()"
   ]
  },
  {
   "cell_type": "code",
   "execution_count": 171,
   "metadata": {},
   "outputs": [],
   "source": [
    "#rename the Unamed colum to Year\n",
    "data = data.rename(columns= {'Unnamed: 0':'Years'})"
   ]
  },
  {
   "cell_type": "code",
   "execution_count": 172,
   "metadata": {},
   "outputs": [
    {
     "data": {
      "text/html": [
       "<div>\n",
       "<style scoped>\n",
       "    .dataframe tbody tr th:only-of-type {\n",
       "        vertical-align: middle;\n",
       "    }\n",
       "\n",
       "    .dataframe tbody tr th {\n",
       "        vertical-align: top;\n",
       "    }\n",
       "\n",
       "    .dataframe thead th {\n",
       "        text-align: right;\n",
       "    }\n",
       "</style>\n",
       "<table border=\"1\" class=\"dataframe\">\n",
       "  <thead>\n",
       "    <tr style=\"text-align: right;\">\n",
       "      <th></th>\n",
       "      <th>Years</th>\n",
       "      <th>GDP growth (annual %)</th>\n",
       "      <th>GDP per capita growth (annual %)</th>\n",
       "      <th>GDP per capita (current US$)</th>\n",
       "    </tr>\n",
       "  </thead>\n",
       "  <tbody>\n",
       "    <tr>\n",
       "      <th>1</th>\n",
       "      <td>1960</td>\n",
       "      <td>NaN</td>\n",
       "      <td>NaN</td>\n",
       "      <td>92.9618</td>\n",
       "    </tr>\n",
       "    <tr>\n",
       "      <th>2</th>\n",
       "      <td>1961</td>\n",
       "      <td>0.191795</td>\n",
       "      <td>-1.82038</td>\n",
       "      <td>96.9804</td>\n",
       "    </tr>\n",
       "    <tr>\n",
       "      <th>3</th>\n",
       "      <td>1962</td>\n",
       "      <td>4.10299</td>\n",
       "      <td>1.96415</td>\n",
       "      <td>104.389</td>\n",
       "    </tr>\n",
       "    <tr>\n",
       "      <th>4</th>\n",
       "      <td>1963</td>\n",
       "      <td>8.57862</td>\n",
       "      <td>6.31106</td>\n",
       "      <td>107.542</td>\n",
       "    </tr>\n",
       "    <tr>\n",
       "      <th>5</th>\n",
       "      <td>1964</td>\n",
       "      <td>4.95049</td>\n",
       "      <td>2.7392</td>\n",
       "      <td>113.17</td>\n",
       "    </tr>\n",
       "  </tbody>\n",
       "</table>\n",
       "</div>"
      ],
      "text/plain": [
       "  Years GDP growth (annual %) GDP per capita growth (annual %)  \\\n",
       "1  1960                   NaN                              NaN   \n",
       "2  1961              0.191795                         -1.82038   \n",
       "3  1962               4.10299                          1.96415   \n",
       "4  1963               8.57862                          6.31106   \n",
       "5  1964               4.95049                           2.7392   \n",
       "\n",
       "  GDP per capita (current US$)  \n",
       "1                      92.9618  \n",
       "2                      96.9804  \n",
       "3                      104.389  \n",
       "4                      107.542  \n",
       "5                       113.17  "
      ]
     },
     "execution_count": 172,
     "metadata": {},
     "output_type": "execute_result"
    }
   ],
   "source": [
    "data.head()"
   ]
  },
  {
   "cell_type": "code",
   "execution_count": 173,
   "metadata": {},
   "outputs": [
    {
     "name": "stdout",
     "output_type": "stream",
     "text": [
      "<class 'pandas.core.frame.DataFrame'>\n",
      "Int64Index: 57 entries, 1 to 57\n",
      "Data columns (total 4 columns):\n",
      "Years                               57 non-null object\n",
      "GDP growth (annual %)               56 non-null object\n",
      "GDP per capita growth (annual %)    56 non-null object\n",
      "GDP per capita (current US$)        57 non-null object\n",
      "dtypes: object(4)\n",
      "memory usage: 2.2+ KB\n"
     ]
    }
   ],
   "source": [
    "#what does our current data contain\n",
    "data.info()"
   ]
  },
  {
   "cell_type": "code",
   "execution_count": 174,
   "metadata": {},
   "outputs": [
    {
     "data": {
      "text/html": [
       "<div>\n",
       "<style scoped>\n",
       "    .dataframe tbody tr th:only-of-type {\n",
       "        vertical-align: middle;\n",
       "    }\n",
       "\n",
       "    .dataframe tbody tr th {\n",
       "        vertical-align: top;\n",
       "    }\n",
       "\n",
       "    .dataframe thead th {\n",
       "        text-align: right;\n",
       "    }\n",
       "</style>\n",
       "<table border=\"1\" class=\"dataframe\">\n",
       "  <thead>\n",
       "    <tr style=\"text-align: right;\">\n",
       "      <th></th>\n",
       "      <th>Years</th>\n",
       "      <th>GDP growth (annual %)</th>\n",
       "      <th>GDP per capita growth (annual %)</th>\n",
       "      <th>GDP per capita (current US$)</th>\n",
       "    </tr>\n",
       "  </thead>\n",
       "  <tbody>\n",
       "    <tr>\n",
       "      <th>1</th>\n",
       "      <td>False</td>\n",
       "      <td>True</td>\n",
       "      <td>True</td>\n",
       "      <td>False</td>\n",
       "    </tr>\n",
       "    <tr>\n",
       "      <th>2</th>\n",
       "      <td>False</td>\n",
       "      <td>False</td>\n",
       "      <td>False</td>\n",
       "      <td>False</td>\n",
       "    </tr>\n",
       "    <tr>\n",
       "      <th>3</th>\n",
       "      <td>False</td>\n",
       "      <td>False</td>\n",
       "      <td>False</td>\n",
       "      <td>False</td>\n",
       "    </tr>\n",
       "    <tr>\n",
       "      <th>4</th>\n",
       "      <td>False</td>\n",
       "      <td>False</td>\n",
       "      <td>False</td>\n",
       "      <td>False</td>\n",
       "    </tr>\n",
       "    <tr>\n",
       "      <th>5</th>\n",
       "      <td>False</td>\n",
       "      <td>False</td>\n",
       "      <td>False</td>\n",
       "      <td>False</td>\n",
       "    </tr>\n",
       "  </tbody>\n",
       "</table>\n",
       "</div>"
      ],
      "text/plain": [
       "   Years  GDP growth (annual %)  GDP per capita growth (annual %)  \\\n",
       "1  False                   True                              True   \n",
       "2  False                  False                             False   \n",
       "3  False                  False                             False   \n",
       "4  False                  False                             False   \n",
       "5  False                  False                             False   \n",
       "\n",
       "   GDP per capita (current US$)  \n",
       "1                         False  \n",
       "2                         False  \n",
       "3                         False  \n",
       "4                         False  \n",
       "5                         False  "
      ]
     },
     "execution_count": 174,
     "metadata": {},
     "output_type": "execute_result"
    }
   ],
   "source": [
    "data.isnull().head() #show the boolean value of NAN\n"
   ]
  },
  {
   "cell_type": "code",
   "execution_count": 175,
   "metadata": {},
   "outputs": [],
   "source": [
    "#lets fill all NAN from \"GDP growth (annual %)\",\"GDP per capita growth (annual %)\" to zero\n",
    "#data.fillna(value = 0, inplace=True)"
   ]
  },
  {
   "cell_type": "code",
   "execution_count": 176,
   "metadata": {},
   "outputs": [
    {
     "data": {
      "text/html": [
       "<div>\n",
       "<style scoped>\n",
       "    .dataframe tbody tr th:only-of-type {\n",
       "        vertical-align: middle;\n",
       "    }\n",
       "\n",
       "    .dataframe tbody tr th {\n",
       "        vertical-align: top;\n",
       "    }\n",
       "\n",
       "    .dataframe thead th {\n",
       "        text-align: right;\n",
       "    }\n",
       "</style>\n",
       "<table border=\"1\" class=\"dataframe\">\n",
       "  <thead>\n",
       "    <tr style=\"text-align: right;\">\n",
       "      <th></th>\n",
       "      <th>Years</th>\n",
       "      <th>GDP growth (annual %)</th>\n",
       "      <th>GDP per capita growth (annual %)</th>\n",
       "      <th>GDP per capita (current US$)</th>\n",
       "    </tr>\n",
       "  </thead>\n",
       "  <tbody>\n",
       "    <tr>\n",
       "      <th>1</th>\n",
       "      <td>1960</td>\n",
       "      <td>NaN</td>\n",
       "      <td>NaN</td>\n",
       "      <td>92.9618</td>\n",
       "    </tr>\n",
       "    <tr>\n",
       "      <th>2</th>\n",
       "      <td>1961</td>\n",
       "      <td>0.191795</td>\n",
       "      <td>-1.82038</td>\n",
       "      <td>96.9804</td>\n",
       "    </tr>\n",
       "    <tr>\n",
       "      <th>3</th>\n",
       "      <td>1962</td>\n",
       "      <td>4.10299</td>\n",
       "      <td>1.96415</td>\n",
       "      <td>104.389</td>\n",
       "    </tr>\n",
       "    <tr>\n",
       "      <th>4</th>\n",
       "      <td>1963</td>\n",
       "      <td>8.57862</td>\n",
       "      <td>6.31106</td>\n",
       "      <td>107.542</td>\n",
       "    </tr>\n",
       "    <tr>\n",
       "      <th>5</th>\n",
       "      <td>1964</td>\n",
       "      <td>4.95049</td>\n",
       "      <td>2.7392</td>\n",
       "      <td>113.17</td>\n",
       "    </tr>\n",
       "  </tbody>\n",
       "</table>\n",
       "</div>"
      ],
      "text/plain": [
       "  Years GDP growth (annual %) GDP per capita growth (annual %)  \\\n",
       "1  1960                   NaN                              NaN   \n",
       "2  1961              0.191795                         -1.82038   \n",
       "3  1962               4.10299                          1.96415   \n",
       "4  1963               8.57862                          6.31106   \n",
       "5  1964               4.95049                           2.7392   \n",
       "\n",
       "  GDP per capita (current US$)  \n",
       "1                      92.9618  \n",
       "2                      96.9804  \n",
       "3                      104.389  \n",
       "4                      107.542  \n",
       "5                       113.17  "
      ]
     },
     "execution_count": 176,
     "metadata": {},
     "output_type": "execute_result"
    }
   ],
   "source": [
    "data.head()"
   ]
  },
  {
   "cell_type": "code",
   "execution_count": 177,
   "metadata": {},
   "outputs": [
    {
     "data": {
      "text/plain": [
       "Years                               object\n",
       "GDP growth (annual %)               object\n",
       "GDP per capita growth (annual %)    object\n",
       "GDP per capita (current US$)        object\n",
       "dtype: object"
      ]
     },
     "execution_count": 177,
     "metadata": {},
     "output_type": "execute_result"
    }
   ],
   "source": [
    "data.dtypes"
   ]
  },
  {
   "cell_type": "code",
   "execution_count": 178,
   "metadata": {},
   "outputs": [],
   "source": [
    "data.dropna(inplace=True)"
   ]
  },
  {
   "cell_type": "code",
   "execution_count": 179,
   "metadata": {},
   "outputs": [
    {
     "data": {
      "text/html": [
       "<div>\n",
       "<style scoped>\n",
       "    .dataframe tbody tr th:only-of-type {\n",
       "        vertical-align: middle;\n",
       "    }\n",
       "\n",
       "    .dataframe tbody tr th {\n",
       "        vertical-align: top;\n",
       "    }\n",
       "\n",
       "    .dataframe thead th {\n",
       "        text-align: right;\n",
       "    }\n",
       "</style>\n",
       "<table border=\"1\" class=\"dataframe\">\n",
       "  <thead>\n",
       "    <tr style=\"text-align: right;\">\n",
       "      <th></th>\n",
       "      <th>Years</th>\n",
       "      <th>GDP growth (annual %)</th>\n",
       "      <th>GDP per capita growth (annual %)</th>\n",
       "      <th>GDP per capita (current US$)</th>\n",
       "    </tr>\n",
       "  </thead>\n",
       "  <tbody>\n",
       "    <tr>\n",
       "      <th>2</th>\n",
       "      <td>1961</td>\n",
       "      <td>0.191795</td>\n",
       "      <td>-1.82038</td>\n",
       "      <td>96.9804</td>\n",
       "    </tr>\n",
       "    <tr>\n",
       "      <th>3</th>\n",
       "      <td>1962</td>\n",
       "      <td>4.10299</td>\n",
       "      <td>1.96415</td>\n",
       "      <td>104.389</td>\n",
       "    </tr>\n",
       "    <tr>\n",
       "      <th>4</th>\n",
       "      <td>1963</td>\n",
       "      <td>8.57862</td>\n",
       "      <td>6.31106</td>\n",
       "      <td>107.542</td>\n",
       "    </tr>\n",
       "    <tr>\n",
       "      <th>5</th>\n",
       "      <td>1964</td>\n",
       "      <td>4.95049</td>\n",
       "      <td>2.7392</td>\n",
       "      <td>113.17</td>\n",
       "    </tr>\n",
       "    <tr>\n",
       "      <th>6</th>\n",
       "      <td>1965</td>\n",
       "      <td>4.88498</td>\n",
       "      <td>2.66464</td>\n",
       "      <td>117.19</td>\n",
       "    </tr>\n",
       "  </tbody>\n",
       "</table>\n",
       "</div>"
      ],
      "text/plain": [
       "  Years GDP growth (annual %) GDP per capita growth (annual %)  \\\n",
       "2  1961              0.191795                         -1.82038   \n",
       "3  1962               4.10299                          1.96415   \n",
       "4  1963               8.57862                          6.31106   \n",
       "5  1964               4.95049                           2.7392   \n",
       "6  1965               4.88498                          2.66464   \n",
       "\n",
       "  GDP per capita (current US$)  \n",
       "2                      96.9804  \n",
       "3                      104.389  \n",
       "4                      107.542  \n",
       "5                       113.17  \n",
       "6                       117.19  "
      ]
     },
     "execution_count": 179,
     "metadata": {},
     "output_type": "execute_result"
    }
   ],
   "source": [
    "data.head()"
   ]
  },
  {
   "cell_type": "code",
   "execution_count": 180,
   "metadata": {},
   "outputs": [
    {
     "data": {
      "text/html": [
       "<div>\n",
       "<style scoped>\n",
       "    .dataframe tbody tr th:only-of-type {\n",
       "        vertical-align: middle;\n",
       "    }\n",
       "\n",
       "    .dataframe tbody tr th {\n",
       "        vertical-align: top;\n",
       "    }\n",
       "\n",
       "    .dataframe thead th {\n",
       "        text-align: right;\n",
       "    }\n",
       "</style>\n",
       "<table border=\"1\" class=\"dataframe\">\n",
       "  <thead>\n",
       "    <tr style=\"text-align: right;\">\n",
       "      <th></th>\n",
       "      <th>Years</th>\n",
       "      <th>GDP growth (annual %)</th>\n",
       "      <th>GDP per capita growth (annual %)</th>\n",
       "      <th>GDP per capita (current US$)</th>\n",
       "    </tr>\n",
       "  </thead>\n",
       "  <tbody>\n",
       "    <tr>\n",
       "      <th>2</th>\n",
       "      <td>1961</td>\n",
       "      <td>0.191795</td>\n",
       "      <td>-1.82038</td>\n",
       "      <td>96.9804</td>\n",
       "    </tr>\n",
       "    <tr>\n",
       "      <th>3</th>\n",
       "      <td>1962</td>\n",
       "      <td>4.10299</td>\n",
       "      <td>1.96415</td>\n",
       "      <td>104.389</td>\n",
       "    </tr>\n",
       "    <tr>\n",
       "      <th>4</th>\n",
       "      <td>1963</td>\n",
       "      <td>8.57862</td>\n",
       "      <td>6.31106</td>\n",
       "      <td>107.542</td>\n",
       "    </tr>\n",
       "    <tr>\n",
       "      <th>5</th>\n",
       "      <td>1964</td>\n",
       "      <td>4.95049</td>\n",
       "      <td>2.7392</td>\n",
       "      <td>113.17</td>\n",
       "    </tr>\n",
       "    <tr>\n",
       "      <th>6</th>\n",
       "      <td>1965</td>\n",
       "      <td>4.88498</td>\n",
       "      <td>2.66464</td>\n",
       "      <td>117.19</td>\n",
       "    </tr>\n",
       "  </tbody>\n",
       "</table>\n",
       "</div>"
      ],
      "text/plain": [
       "  Years GDP growth (annual %) GDP per capita growth (annual %)  \\\n",
       "2  1961              0.191795                         -1.82038   \n",
       "3  1962               4.10299                          1.96415   \n",
       "4  1963               8.57862                          6.31106   \n",
       "5  1964               4.95049                           2.7392   \n",
       "6  1965               4.88498                          2.66464   \n",
       "\n",
       "  GDP per capita (current US$)  \n",
       "2                      96.9804  \n",
       "3                      104.389  \n",
       "4                      107.542  \n",
       "5                       113.17  \n",
       "6                       117.19  "
      ]
     },
     "execution_count": 180,
     "metadata": {},
     "output_type": "execute_result"
    }
   ],
   "source": [
    "#round up data to 2 decimal place\n",
    "#Round up to 2 decimal places in other to get the naira and kobo equivalent.\n",
    "data = data.round(2)\n",
    "data.head()"
   ]
  },
  {
   "cell_type": "code",
   "execution_count": 181,
   "metadata": {},
   "outputs": [],
   "source": [
    "#data['GDP per capita (current US$)'].mean(),median() "
   ]
  },
  {
   "cell_type": "code",
   "execution_count": 182,
   "metadata": {},
   "outputs": [
    {
     "data": {
      "text/plain": [
       "Years                               object\n",
       "GDP growth (annual %)               object\n",
       "GDP per capita growth (annual %)    object\n",
       "GDP per capita (current US$)        object\n",
       "dtype: object"
      ]
     },
     "execution_count": 182,
     "metadata": {},
     "output_type": "execute_result"
    }
   ],
   "source": [
    "data.dtypes #check datapes for each column"
   ]
  },
  {
   "cell_type": "code",
   "execution_count": 183,
   "metadata": {},
   "outputs": [],
   "source": [
    "data['Years'] = pd.to_datetime(data['Years']).dt.year #convert generic year object to datetime object"
   ]
  },
  {
   "cell_type": "code",
   "execution_count": 184,
   "metadata": {},
   "outputs": [
    {
     "data": {
      "text/plain": [
       "Years                                int64\n",
       "GDP growth (annual %)               object\n",
       "GDP per capita growth (annual %)    object\n",
       "GDP per capita (current US$)        object\n",
       "dtype: object"
      ]
     },
     "execution_count": 184,
     "metadata": {},
     "output_type": "execute_result"
    }
   ],
   "source": [
    "data.dtypes"
   ]
  },
  {
   "cell_type": "code",
   "execution_count": null,
   "metadata": {},
   "outputs": [],
   "source": [
    "data"
   ]
  },
  {
   "cell_type": "code",
   "execution_count": 185,
   "metadata": {},
   "outputs": [
    {
     "data": {
      "text/html": [
       "<div>\n",
       "<style scoped>\n",
       "    .dataframe tbody tr th:only-of-type {\n",
       "        vertical-align: middle;\n",
       "    }\n",
       "\n",
       "    .dataframe tbody tr th {\n",
       "        vertical-align: top;\n",
       "    }\n",
       "\n",
       "    .dataframe thead th {\n",
       "        text-align: right;\n",
       "    }\n",
       "</style>\n",
       "<table border=\"1\" class=\"dataframe\">\n",
       "  <thead>\n",
       "    <tr style=\"text-align: right;\">\n",
       "      <th></th>\n",
       "      <th>Years</th>\n",
       "      <th>GDP growth (annual %)</th>\n",
       "      <th>GDP per capita growth (annual %)</th>\n",
       "      <th>GDP per capita (current US$)</th>\n",
       "    </tr>\n",
       "  </thead>\n",
       "  <tbody>\n",
       "    <tr>\n",
       "      <th>2</th>\n",
       "      <td>1961</td>\n",
       "      <td>0.191795</td>\n",
       "      <td>-1.82038</td>\n",
       "      <td>96.9804</td>\n",
       "    </tr>\n",
       "    <tr>\n",
       "      <th>3</th>\n",
       "      <td>1962</td>\n",
       "      <td>4.10299</td>\n",
       "      <td>1.96415</td>\n",
       "      <td>104.389</td>\n",
       "    </tr>\n",
       "    <tr>\n",
       "      <th>4</th>\n",
       "      <td>1963</td>\n",
       "      <td>8.57862</td>\n",
       "      <td>6.31106</td>\n",
       "      <td>107.542</td>\n",
       "    </tr>\n",
       "    <tr>\n",
       "      <th>5</th>\n",
       "      <td>1964</td>\n",
       "      <td>4.95049</td>\n",
       "      <td>2.7392</td>\n",
       "      <td>113.17</td>\n",
       "    </tr>\n",
       "    <tr>\n",
       "      <th>6</th>\n",
       "      <td>1965</td>\n",
       "      <td>4.88498</td>\n",
       "      <td>2.66464</td>\n",
       "      <td>117.19</td>\n",
       "    </tr>\n",
       "  </tbody>\n",
       "</table>\n",
       "</div>"
      ],
      "text/plain": [
       "   Years GDP growth (annual %) GDP per capita growth (annual %)  \\\n",
       "2   1961              0.191795                         -1.82038   \n",
       "3   1962               4.10299                          1.96415   \n",
       "4   1963               8.57862                          6.31106   \n",
       "5   1964               4.95049                           2.7392   \n",
       "6   1965               4.88498                          2.66464   \n",
       "\n",
       "  GDP per capita (current US$)  \n",
       "2                      96.9804  \n",
       "3                      104.389  \n",
       "4                      107.542  \n",
       "5                       113.17  \n",
       "6                       117.19  "
      ]
     },
     "execution_count": 185,
     "metadata": {},
     "output_type": "execute_result"
    }
   ],
   "source": [
    "data.head()"
   ]
  },
  {
   "cell_type": "code",
   "execution_count": 186,
   "metadata": {},
   "outputs": [],
   "source": [
    "data['GDP per capita (current US$)'] = pd.to_numeric(data['GDP per capita (current US$)']) #convert generic Gdp object to numeric object"
   ]
  },
  {
   "cell_type": "code",
   "execution_count": 187,
   "metadata": {},
   "outputs": [
    {
     "data": {
      "text/plain": [
       "Years                                 int64\n",
       "GDP growth (annual %)                object\n",
       "GDP per capita growth (annual %)     object\n",
       "GDP per capita (current US$)        float64\n",
       "dtype: object"
      ]
     },
     "execution_count": 187,
     "metadata": {},
     "output_type": "execute_result"
    }
   ],
   "source": [
    "data.dtypes"
   ]
  },
  {
   "cell_type": "code",
   "execution_count": 188,
   "metadata": {},
   "outputs": [],
   "source": [
    "# def to_numeric(series):\n",
    "#    return pd.to_numeric(series)\n",
    "\n",
    "# data['GDP per capita (current US$)'] = to_numeric()\n",
    "data['GDP per capita growth (annual %)'] = pd.to_numeric(data['GDP per capita growth (annual %)']) #convert generic Gdp object to numeric object"
   ]
  },
  {
   "cell_type": "code",
   "execution_count": 189,
   "metadata": {},
   "outputs": [
    {
     "data": {
      "text/plain": [
       "Years                                 int64\n",
       "GDP growth (annual %)                object\n",
       "GDP per capita growth (annual %)    float64\n",
       "GDP per capita (current US$)        float64\n",
       "dtype: object"
      ]
     },
     "execution_count": 189,
     "metadata": {},
     "output_type": "execute_result"
    }
   ],
   "source": [
    "data.dtypes"
   ]
  },
  {
   "cell_type": "code",
   "execution_count": 190,
   "metadata": {},
   "outputs": [],
   "source": [
    "data['GDP growth (annual %)'] = pd.to_numeric(data['GDP growth (annual %)']) #convert generic Gdp object to numeric object"
   ]
  },
  {
   "cell_type": "code",
   "execution_count": 191,
   "metadata": {},
   "outputs": [
    {
     "data": {
      "text/plain": [
       "Years                                 int64\n",
       "GDP growth (annual %)               float64\n",
       "GDP per capita growth (annual %)    float64\n",
       "GDP per capita (current US$)        float64\n",
       "dtype: object"
      ]
     },
     "execution_count": 191,
     "metadata": {},
     "output_type": "execute_result"
    }
   ],
   "source": [
    "data.dtypes"
   ]
  },
  {
   "cell_type": "code",
   "execution_count": 192,
   "metadata": {},
   "outputs": [],
   "source": [
    "data = data.round(2) #roun"
   ]
  },
  {
   "cell_type": "code",
   "execution_count": 193,
   "metadata": {},
   "outputs": [
    {
     "data": {
      "text/html": [
       "<div>\n",
       "<style scoped>\n",
       "    .dataframe tbody tr th:only-of-type {\n",
       "        vertical-align: middle;\n",
       "    }\n",
       "\n",
       "    .dataframe tbody tr th {\n",
       "        vertical-align: top;\n",
       "    }\n",
       "\n",
       "    .dataframe thead th {\n",
       "        text-align: right;\n",
       "    }\n",
       "</style>\n",
       "<table border=\"1\" class=\"dataframe\">\n",
       "  <thead>\n",
       "    <tr style=\"text-align: right;\">\n",
       "      <th></th>\n",
       "      <th>Years</th>\n",
       "      <th>GDP growth (annual %)</th>\n",
       "      <th>GDP per capita growth (annual %)</th>\n",
       "      <th>GDP per capita (current US$)</th>\n",
       "    </tr>\n",
       "  </thead>\n",
       "  <tbody>\n",
       "    <tr>\n",
       "      <th>2</th>\n",
       "      <td>1961</td>\n",
       "      <td>0.19</td>\n",
       "      <td>-1.82</td>\n",
       "      <td>96.98</td>\n",
       "    </tr>\n",
       "    <tr>\n",
       "      <th>3</th>\n",
       "      <td>1962</td>\n",
       "      <td>4.10</td>\n",
       "      <td>1.96</td>\n",
       "      <td>104.39</td>\n",
       "    </tr>\n",
       "    <tr>\n",
       "      <th>4</th>\n",
       "      <td>1963</td>\n",
       "      <td>8.58</td>\n",
       "      <td>6.31</td>\n",
       "      <td>107.54</td>\n",
       "    </tr>\n",
       "    <tr>\n",
       "      <th>5</th>\n",
       "      <td>1964</td>\n",
       "      <td>4.95</td>\n",
       "      <td>2.74</td>\n",
       "      <td>113.17</td>\n",
       "    </tr>\n",
       "    <tr>\n",
       "      <th>6</th>\n",
       "      <td>1965</td>\n",
       "      <td>4.88</td>\n",
       "      <td>2.66</td>\n",
       "      <td>117.19</td>\n",
       "    </tr>\n",
       "  </tbody>\n",
       "</table>\n",
       "</div>"
      ],
      "text/plain": [
       "   Years  GDP growth (annual %)  GDP per capita growth (annual %)  \\\n",
       "2   1961                   0.19                             -1.82   \n",
       "3   1962                   4.10                              1.96   \n",
       "4   1963                   8.58                              6.31   \n",
       "5   1964                   4.95                              2.74   \n",
       "6   1965                   4.88                              2.66   \n",
       "\n",
       "   GDP per capita (current US$)  \n",
       "2                         96.98  \n",
       "3                        104.39  \n",
       "4                        107.54  \n",
       "5                        113.17  \n",
       "6                        117.19  "
      ]
     },
     "execution_count": 193,
     "metadata": {},
     "output_type": "execute_result"
    }
   ],
   "source": [
    "data.head()"
   ]
  },
  {
   "cell_type": "code",
   "execution_count": 194,
   "metadata": {},
   "outputs": [
    {
     "data": {
      "text/html": [
       "<div>\n",
       "<style scoped>\n",
       "    .dataframe tbody tr th:only-of-type {\n",
       "        vertical-align: middle;\n",
       "    }\n",
       "\n",
       "    .dataframe tbody tr th {\n",
       "        vertical-align: top;\n",
       "    }\n",
       "\n",
       "    .dataframe thead th {\n",
       "        text-align: right;\n",
       "    }\n",
       "</style>\n",
       "<table border=\"1\" class=\"dataframe\">\n",
       "  <thead>\n",
       "    <tr style=\"text-align: right;\">\n",
       "      <th></th>\n",
       "      <th>GDP growth</th>\n",
       "      <th>GDP per capita growth</th>\n",
       "      <th>GDP per capita</th>\n",
       "    </tr>\n",
       "    <tr>\n",
       "      <th>Years</th>\n",
       "      <th></th>\n",
       "      <th></th>\n",
       "      <th></th>\n",
       "    </tr>\n",
       "  </thead>\n",
       "  <tbody>\n",
       "    <tr>\n",
       "      <th>1961</th>\n",
       "      <td>0.19</td>\n",
       "      <td>-1.82</td>\n",
       "      <td>96.98</td>\n",
       "    </tr>\n",
       "    <tr>\n",
       "      <th>1962</th>\n",
       "      <td>4.10</td>\n",
       "      <td>1.96</td>\n",
       "      <td>104.39</td>\n",
       "    </tr>\n",
       "    <tr>\n",
       "      <th>1963</th>\n",
       "      <td>8.58</td>\n",
       "      <td>6.31</td>\n",
       "      <td>107.54</td>\n",
       "    </tr>\n",
       "    <tr>\n",
       "      <th>1964</th>\n",
       "      <td>4.95</td>\n",
       "      <td>2.74</td>\n",
       "      <td>113.17</td>\n",
       "    </tr>\n",
       "    <tr>\n",
       "      <th>1965</th>\n",
       "      <td>4.88</td>\n",
       "      <td>2.66</td>\n",
       "      <td>117.19</td>\n",
       "    </tr>\n",
       "  </tbody>\n",
       "</table>\n",
       "</div>"
      ],
      "text/plain": [
       "       GDP growth  GDP per capita growth  GDP per capita\n",
       "Years                                                   \n",
       "1961         0.19                  -1.82           96.98\n",
       "1962         4.10                   1.96          104.39\n",
       "1963         8.58                   6.31          107.54\n",
       "1964         4.95                   2.74          113.17\n",
       "1965         4.88                   2.66          117.19"
      ]
     },
     "execution_count": 194,
     "metadata": {},
     "output_type": "execute_result"
    }
   ],
   "source": [
    "#renamed colums to remove bracket, \n",
    "data.rename(columns = {'GDP growth (annual %)':'GDP growth','GDP per capita growth (annual %)':'GDP per capita growth','GDP per capita (current US$)':'GDP per capita'},inplace = True)\n",
    "data.set_index('Years', inplace=True) #set index to \n",
    "data.head()\n",
    "# Useful snippet for removing spaces in column\n",
    "#cols = data.columns\n",
    "# cols = cols.map(lambda x: x.replace(' ', '_') if isinstance(x, (str, unicode)) else x)\n",
    "# df.columns = cols"
   ]
  },
  {
   "cell_type": "code",
   "execution_count": 210,
   "metadata": {},
   "outputs": [
    {
     "data": {
      "image/png": "[encoded data removed]",
      "text/plain": [
       "<Figure size 1440x720 with 1 Axes>"
      ]
     },
     "metadata": {},
     "output_type": "display_data"
    },
    {
     "data": {
      "image/png": "[encoded data removed]",
      "text/plain": [
       "<Figure size 1440x720 with 1 Axes>"
      ]
     },
     "metadata": {},
     "output_type": "display_data"
    }
   ],
   "source": [
    "\n",
    "data[['GDP per capita']].plot(figsize=(20,10),linewidth=5, fontsize=20, kind ='bar')\n",
    "data[['GDP per capita growth']].plot(figsize=(20,10),linewidth=5, fontsize=20)\n",
    "plt.xlabel('Year', fontsize=20);\n",
    "plt.ylabel('Currency in USD',fontsize=20);\n",
    "#data.plot()\n",
    "#plt.xlabel('Year', fontsize=20);\n",
    "\n",
    "# plt.xticks(x, my_xticks)\n",
    "# plt.yticks(np.arange(y.min(), y.max(), 50))\n",
    "# plt.plot(x, y)\n",
    "# plt.grid(axis='y', linestyle='-')\n",
    "#plt.show()"
   ]
  },
  {
   "cell_type": "code",
   "execution_count": null,
   "metadata": {},
   "outputs": [],
   "source": []
  },
  {
   "cell_type": "code",
   "execution_count": null,
   "metadata": {},
   "outputs": [],
   "source": []
  }
 ],
 "metadata": {
  "kernelspec": {
   "display_name": "Python 3",
   "language": "python",
   "name": "python3"
  },
  "language_info": {
   "codemirror_mode": {
    "name": "ipython",
    "version": 3
   },
   "file_extension": ".py",
   "mimetype": "text/x-python",
   "name": "python",
   "nbconvert_exporter": "python",
   "pygments_lexer": "ipython3",
   "version": "3.6.5"
  }
 },
 "nbformat": 4,
 "nbformat_minor": 2
}
